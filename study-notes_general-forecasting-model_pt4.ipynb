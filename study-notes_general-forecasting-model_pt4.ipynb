{
 "cells": [
  {
   "cell_type": "markdown",
   "id": "olive-trinidad",
   "metadata": {},
   "source": [
    "#### Dickey-Fuller test\n",
    "Null Hypothesis, H0, phi = 1\n",
    "- p value < 0.05 (not significant), **reject** H0, dataset is stationer\n",
    "- p value > 0.05 **fail to reject**, dataset is not stationer"
   ]
  },
  {
   "cell_type": "markdown",
   "id": "fixed-composer",
   "metadata": {},
   "source": [
    "#### Granger Causality test\n",
    "Measuring **causality** between one time series and another time series, in other words whether one time series is useful in forecasting other time series. Keep in mind it is different from correlation."
   ]
  },
  {
   "cell_type": "code",
   "execution_count": 1,
   "id": "twelve-financing",
   "metadata": {},
   "outputs": [],
   "source": [
    "import numpy as np\n",
    "import pandas as pd"
   ]
  },
  {
   "cell_type": "code",
   "execution_count": 2,
   "id": "dutch-elder",
   "metadata": {},
   "outputs": [],
   "source": [
    "# load a seasonal dataset\n",
    "airline_df = pd.read_csv(\"UDEMY_TSA_FINAL/Data/airline_passengers.csv\", index_col='Month', parse_dates=True)\n",
    "airline_df.index.freq = 'MS'"
   ]
  },
  {
   "cell_type": "code",
   "execution_count": 3,
   "id": "static-kansas",
   "metadata": {},
   "outputs": [],
   "source": [
    "# load a nonseasonal dataset\n",
    "birth_df = pd.read_csv(\"UDEMY_TSA_FINAL/Data/DailyTotalFemaleBirths.csv\",\n",
    "                       index_col='Date',\n",
    "                       parse_dates=True)\n",
    "birth_df.index.freq = 'D'"
   ]
  },
  {
   "cell_type": "code",
   "execution_count": 4,
   "id": "interesting-dressing",
   "metadata": {},
   "outputs": [
    {
     "data": {
      "image/png": "[encoded data removed]",
      "text/plain": [
       "<Figure size 432x288 with 1 Axes>"
      ]
     },
     "metadata": {
      "needs_background": "light"
     },
     "output_type": "display_data"
    }
   ],
   "source": [
    "airline_df.plot().autoscale(axis='x', tight=True)"
   ]
  },
  {
   "cell_type": "code",
   "execution_count": 5,
   "id": "conditional-stockholm",
   "metadata": {},
   "outputs": [],
   "source": [
    "# import augmented Dickey Fuler test\n",
    "from statsmodels.tsa.stattools import adfuller"
   ]
  },
  {
   "cell_type": "code",
   "execution_count": 6,
   "id": "agreed-corps",
   "metadata": {},
   "outputs": [
    {
     "data": {
      "text/plain": [
       "(0.8153688792060451,\n",
       " 0.9918802434376409,\n",
       " 13,\n",
       " 130,\n",
       " {'1%': -3.4816817173418295,\n",
       "  '5%': -2.8840418343195267,\n",
       "  '10%': -2.578770059171598},\n",
       " 996.692930839019)"
      ]
     },
     "execution_count": 6,
     "metadata": {},
     "output_type": "execute_result"
    }
   ],
   "source": [
    "adfuller(airline_df['Thousands of Passengers'])"
   ]
  },
  {
   "cell_type": "code",
   "execution_count": 7,
   "id": "internal-belly",
   "metadata": {
    "scrolled": false
   },
   "outputs": [
    {
     "name": "stdout",
     "output_type": "stream",
     "text": [
      "Help on function adfuller in module statsmodels.tsa.stattools:\n",
      "\n",
      "adfuller(x, maxlag=None, regression='c', autolag='AIC', store=False, regresults=False)\n",
      "    Augmented Dickey-Fuller unit root test.\n",
      "    \n",
      "    The Augmented Dickey-Fuller test can be used to test for a unit root in a\n",
      "    univariate process in the presence of serial correlation.\n",
      "    \n",
      "    Parameters\n",
      "    ----------\n",
      "    x : array_like, 1d\n",
      "        The data series to test.\n",
      "    maxlag : int\n",
      "        Maximum lag which is included in test, default 12*(nobs/100)^{1/4}.\n",
      "    regression : {\"c\",\"ct\",\"ctt\",\"nc\"}\n",
      "        Constant and trend order to include in regression.\n",
      "    \n",
      "        * \"c\" : constant only (default).\n",
      "        * \"ct\" : constant and trend.\n",
      "        * \"ctt\" : constant, and linear and quadratic trend.\n",
      "        * \"nc\" : no constant, no trend.\n",
      "    \n",
      "    autolag : {\"AIC\", \"BIC\", \"t-stat\", None}\n",
      "        Method to use when automatically determining the lag.\n",
      "    \n",
      "        * if None, then maxlag lags are used.\n",
      "        * if \"AIC\" (default) or \"BIC\", then the number of lags is chosen\n",
      "          to minimize the corresponding information criterion.\n",
      "        * \"t-stat\" based choice of maxlag.  Starts with maxlag and drops a\n",
      "          lag until the t-statistic on the last lag length is significant\n",
      "          using a 5%-sized test.\n",
      "    store : bool\n",
      "        If True, then a result instance is returned additionally to\n",
      "        the adf statistic. Default is False.\n",
      "    regresults : bool, optional\n",
      "        If True, the full regression results are returned. Default is False.\n",
      "    \n",
      "    Returns\n",
      "    -------\n",
      "    adf : float\n",
      "        The test statistic.\n",
      "    pvalue : float\n",
      "        MacKinnon\"s approximate p-value based on MacKinnon (1994, 2010).\n",
      "    usedlag : int\n",
      "        The number of lags used.\n",
      "    nobs : int\n",
      "        The number of observations used for the ADF regression and calculation\n",
      "        of the critical values.\n",
      "    critical values : dict\n",
      "        Critical values for the test statistic at the 1 %, 5 %, and 10 %\n",
      "        levels. Based on MacKinnon (2010).\n",
      "    icbest : float\n",
      "        The maximized information criterion if autolag is not None.\n",
      "    resstore : ResultStore, optional\n",
      "        A dummy class with results attached as attributes.\n",
      "    \n",
      "    Notes\n",
      "    -----\n",
      "    The null hypothesis of the Augmented Dickey-Fuller is that there is a unit\n",
      "    root, with the alternative that there is no unit root. If the pvalue is\n",
      "    above a critical size, then we cannot reject that there is a unit root.\n",
      "    \n",
      "    The p-values are obtained through regression surface approximation from\n",
      "    MacKinnon 1994, but using the updated 2010 tables. If the p-value is close\n",
      "    to significant, then the critical values should be used to judge whether\n",
      "    to reject the null.\n",
      "    \n",
      "    The autolag option and maxlag for it are described in Greene.\n",
      "    \n",
      "    References\n",
      "    ----------\n",
      "    .. [1] W. Green.  \"Econometric Analysis,\" 5th ed., Pearson, 2003.\n",
      "    \n",
      "    .. [2] Hamilton, J.D.  \"Time Series Analysis\".  Princeton, 1994.\n",
      "    \n",
      "    .. [3] MacKinnon, J.G. 1994.  \"Approximate asymptotic distribution functions for\n",
      "        unit-root and cointegration tests.  `Journal of Business and Economic\n",
      "        Statistics` 12, 167-76.\n",
      "    \n",
      "    .. [4] MacKinnon, J.G. 2010. \"Critical Values for Cointegration Tests.\"  Queen\"s\n",
      "        University, Dept of Economics, Working Papers.  Available at\n",
      "        http://ideas.repec.org/p/qed/wpaper/1227.html\n",
      "    \n",
      "    Examples\n",
      "    --------\n",
      "    See example notebook\n",
      "\n"
     ]
    }
   ],
   "source": [
    "help(adfuller)"
   ]
  },
  {
   "cell_type": "code",
   "execution_count": 8,
   "id": "signed-stage",
   "metadata": {},
   "outputs": [],
   "source": [
    "airline_test = adfuller(airline_df['Thousands of Passengers'])\n",
    "airline_out = pd.Series(airline_test[0:4],\n",
    "                        index = ['ADF Test Statistic', 'p-value',\n",
    "                                'Lags Used', 'Num of Obeservations'])"
   ]
  },
  {
   "cell_type": "code",
   "execution_count": 9,
   "id": "fancy-cleanup",
   "metadata": {},
   "outputs": [
    {
     "data": {
      "text/plain": [
       "ADF Test Statistic        0.815369\n",
       "p-value                   0.991880\n",
       "Lags Used                13.000000\n",
       "Num of Obeservations    130.000000\n",
       "dtype: float64"
      ]
     },
     "execution_count": 9,
     "metadata": {},
     "output_type": "execute_result"
    }
   ],
   "source": [
    "airline_out"
   ]
  },
  {
   "cell_type": "code",
   "execution_count": 10,
   "id": "acute-platform",
   "metadata": {},
   "outputs": [],
   "source": [
    "for key, val in airline_test[4].items():\n",
    "    airline_out[f'Critical Value ({key})'] = val\n",
    "    \n",
    "airline_out['Maximized IC'] = airline_test[5]"
   ]
  },
  {
   "cell_type": "code",
   "execution_count": 11,
   "id": "fatal-soviet",
   "metadata": {},
   "outputs": [
    {
     "data": {
      "text/plain": [
       "ADF Test Statistic        0.815369\n",
       "p-value                   0.991880\n",
       "Lags Used                13.000000\n",
       "Num of Obeservations    130.000000\n",
       "Critical Value (1%)      -3.481682\n",
       "Critical Value (5%)      -2.884042\n",
       "Critical Value (10%)     -2.578770\n",
       "Maximized IC            996.692931\n",
       "dtype: float64"
      ]
     },
     "execution_count": 11,
     "metadata": {},
     "output_type": "execute_result"
    }
   ],
   "source": [
    "airline_out"
   ]
  },
  {
   "cell_type": "code",
   "execution_count": 13,
   "id": "statewide-letter",
   "metadata": {},
   "outputs": [],
   "source": [
    "def adf_test(series,title=''):\n",
    "    \"\"\"\n",
    "    Pass in a time series and an optional title, returns an ADF report\n",
    "    \"\"\"\n",
    "    print(f'Augmented Dickey-Fuller Test: {title}')\n",
    "    result = adfuller(series.dropna(),autolag='AIC') # .dropna() handles differenced data\n",
    "    \n",
    "    labels = ['ADF test statistic','p-value','# lags used','# observations']\n",
    "    out = pd.Series(result[0:4],index=labels)\n",
    "\n",
    "    for key,val in result[4].items():\n",
    "        out[f'critical value ({key})']=val\n",
    "    \n",
    "    out['Maximized IC'] = result[5]\n",
    "        \n",
    "    print(out.to_string())          # .to_string() removes the line \"dtype: float64\"\n",
    "    \n",
    "    if result[1] <= 0.05:\n",
    "        print(\"Strong evidence against the null hypothesis\")\n",
    "        print(\"Reject the null hypothesis\")\n",
    "        print(\"Data has no unit root and is stationary\")\n",
    "    else:\n",
    "        print(\"Weak evidence against the null hypothesis\")\n",
    "        print(\"Fail to reject the null hypothesis\")\n",
    "        print(\"Data has a unit root and is non-stationary\")"
   ]
  },
  {
   "cell_type": "code",
   "execution_count": 14,
   "id": "pretty-bradley",
   "metadata": {},
   "outputs": [
    {
     "name": "stdout",
     "output_type": "stream",
     "text": [
      "Augmented Dickey-Fuller Test: Airline Dataset\n",
      "ADF test statistic        0.815369\n",
      "p-value                   0.991880\n",
      "# lags used              13.000000\n",
      "# observations          130.000000\n",
      "critical value (1%)      -3.481682\n",
      "critical value (5%)      -2.884042\n",
      "critical value (10%)     -2.578770\n",
      "Maximized IC            996.692931\n",
      "Weak evidence against the null hypothesis\n",
      "Fail to reject the null hypothesis\n",
      "Data has a unit root and is non-stationary\n"
     ]
    }
   ],
   "source": [
    "adf_test(airline_df['Thousands of Passengers'], title='Airline Dataset')"
   ]
  },
  {
   "cell_type": "code",
   "execution_count": null,
   "id": "familiar-gasoline",
   "metadata": {},
   "outputs": [],
   "source": []
  }
 ],
 "metadata": {
  "kernelspec": {
   "display_name": "Python 3",
   "language": "python",
   "name": "python3"
  },
  "language_info": {
   "codemirror_mode": {
    "name": "ipython",
    "version": 3
   },
   "file_extension": ".py",
   "mimetype": "text/x-python",
   "name": "python",
   "nbconvert_exporter": "python",
   "pygments_lexer": "ipython3",
   "version": "3.8.5"
  }
 },
 "nbformat": 4,
 "nbformat_minor": 5
}
