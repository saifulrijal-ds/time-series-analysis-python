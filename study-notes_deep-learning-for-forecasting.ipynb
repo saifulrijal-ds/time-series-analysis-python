{
 "cells": [
  {
   "cell_type": "markdown",
   "metadata": {},
   "source": [
    "# Keras Basics"
   ]
  },
  {
   "cell_type": "code",
   "execution_count": 1,
   "metadata": {},
   "outputs": [],
   "source": [
    "import os\n",
    "os.environ[\"KERAS_BACKEND\"] = \"plaidml.keras.backend\""
   ]
  },
  {
   "cell_type": "code",
   "execution_count": 2,
   "metadata": {},
   "outputs": [
    {
     "name": "stderr",
     "output_type": "stream",
     "text": [
      "Using plaidml.keras.backend backend.\n"
     ]
    }
   ],
   "source": [
    "import keras\n",
    "import numpy as np\n",
    "import pandas as pd\n",
    "import matplotlib.pyplot as plt\n",
    "\n",
    "from sklearn.metrics import mean_squared_error"
   ]
  },
  {
   "cell_type": "markdown",
   "metadata": {},
   "source": [
    "#### y = mx + b + noise"
   ]
  },
  {
   "cell_type": "code",
   "execution_count": 3,
   "metadata": {},
   "outputs": [],
   "source": [
    "m = 2\n",
    "b = 3\n",
    "x = np.linspace(0, 50, 100)"
   ]
  },
  {
   "cell_type": "code",
   "execution_count": 4,
   "metadata": {},
   "outputs": [],
   "source": [
    "np.random.seed(101)\n",
    "noise = np.random.normal(loc=0, scale=4, size=len(x))"
   ]
  },
  {
   "cell_type": "code",
   "execution_count": 5,
   "metadata": {},
   "outputs": [
    {
     "data": {
      "text/plain": [
       "array([ 1.08273994e+01,  2.51253084e+00,  3.63187779e+00,  2.01530302e+00,\n",
       "        2.60447179e+00, -1.27727218e+00, -3.39230793e+00,  2.42386140e+00,\n",
       "       -8.07267298e+00,  2.96048823e+00,  2.11525398e+00, -2.35600213e+00,\n",
       "        7.54781238e-01, -3.03548822e+00, -3.73294887e+00,  3.82022604e+00,\n",
       "        7.63177289e-01,  7.91502930e+00,  1.04238691e+01,  2.73403554e+00,\n",
       "        1.21066179e+00,  6.77489170e+00, -6.82434372e+00, -4.63647766e+00,\n",
       "       -5.39362882e-01,  1.56211137e+00,  6.67618544e-01,  7.38007437e-01,\n",
       "        3.23082366e+00,  2.91838701e-01,  2.55514805e+00,  1.31858520e+00,\n",
       "       -1.98841609e+00, -3.01627880e+00, -3.77362561e+00,  1.93900659e+00,\n",
       "       -4.67093266e-01,  7.60701918e+00,  9.52507835e-01,  7.98660914e+00,\n",
       "       -3.97305400e+00,  7.87198020e-01, -4.54657837e+00,  1.46591842e-03,\n",
       "        4.10393661e+00, -6.26391617e-01, -1.26316576e-01,  2.59930333e+00,\n",
       "        8.61938577e+00, -2.44103542e+00, -3.02130136e+00, -1.38567401e+00,\n",
       "        5.88107085e-01, -1.91779216e+00,  2.23507763e+00,  4.09924111e+00,\n",
       "       -3.70349704e+00,  7.45145655e+00, -4.53526865e+00,  2.44191163e+00,\n",
       "        1.54412125e+00,  8.33607412e+00, -1.50607470e+00,  9.21345374e-01,\n",
       "        2.72483717e+00,  4.14050030e+00, -1.24641926e-01,  7.75972924e+00,\n",
       "       -4.02074767e+00, -2.96715882e+00,  7.48498087e-01, -2.93138059e+00,\n",
       "       -5.53168039e+00,  5.92998198e+00,  3.84583262e+00, -8.56484916e+00,\n",
       "        3.97029381e+00,  4.76896255e+00, -4.18711815e+00,  5.17105831e+00,\n",
       "       -5.87005608e+00, -1.97638143e+00, -6.50138939e-01,  1.94323495e+00,\n",
       "        1.56995524e+00,  8.85962740e-01, -3.42078416e+00,  6.16796163e+00,\n",
       "        2.66527728e+00, -2.15293850e+00, -2.27432544e+00,  5.62935299e+00,\n",
       "        2.56722205e+00, -3.62039961e+00, -1.56462651e+00,  4.11317264e+00,\n",
       "       -7.89042041e+00, -3.46754014e+00,  2.88315040e+00, -4.89232815e+00])"
      ]
     },
     "execution_count": 5,
     "metadata": {},
     "output_type": "execute_result"
    }
   ],
   "source": [
    "noise"
   ]
  },
  {
   "cell_type": "code",
   "execution_count": 6,
   "metadata": {},
   "outputs": [],
   "source": [
    "y = m*x + b + noise"
   ]
  },
  {
   "cell_type": "code",
   "execution_count": 7,
   "metadata": {},
   "outputs": [
    {
     "data": {
      "text/plain": [
       "[<matplotlib.lines.Line2D at 0x1ec51cfc220>]"
      ]
     },
     "execution_count": 7,
     "metadata": {},
     "output_type": "execute_result"
    },
    {
     "data": {
      "image/png": "[encoded data removed]",
      "text/plain": [
       "<Figure size 432x288 with 1 Axes>"
      ]
     },
     "metadata": {
      "needs_background": "light"
     },
     "output_type": "display_data"
    }
   ],
   "source": [
    "plt.plot(x, y, '*')"
   ]
  },
  {
   "cell_type": "code",
   "execution_count": 8,
   "metadata": {},
   "outputs": [],
   "source": [
    "from keras.models import Sequential\n",
    "from keras.layers import Dense"
   ]
  },
  {
   "cell_type": "code",
   "execution_count": 9,
   "metadata": {},
   "outputs": [
    {
     "name": "stderr",
     "output_type": "stream",
     "text": [
      "INFO:plaidml:Opening device \"opencl_amd_stoney.0\"\n"
     ]
    }
   ],
   "source": [
    "model = Sequential()\n",
    "\n",
    "model.add(Dense(4, input_dim=1, activation='relu'))\n",
    "\n",
    "model.add(Dense(4, activation='relu'))\n",
    "\n",
    "# output layer\n",
    "model.add(Dense(1, activation='linear'))\n",
    "\n",
    "model.compile(loss='mse', optimizer='adam')"
   ]
  },
  {
   "cell_type": "code",
   "execution_count": 10,
   "metadata": {},
   "outputs": [
    {
     "name": "stdout",
     "output_type": "stream",
     "text": [
      "_________________________________________________________________\n",
      "Layer (type)                 Output Shape              Param #   \n",
      "=================================================================\n",
      "dense_1 (Dense)              (None, 4)                 8         \n",
      "_________________________________________________________________\n",
      "dense_2 (Dense)              (None, 4)                 20        \n",
      "_________________________________________________________________\n",
      "dense_3 (Dense)              (None, 1)                 5         \n",
      "=================================================================\n",
      "Total params: 33\n",
      "Trainable params: 33\n",
      "Non-trainable params: 0\n",
      "_________________________________________________________________\n"
     ]
    }
   ],
   "source": [
    "model.summary()"
   ]
  },
  {
   "cell_type": "code",
   "execution_count": 11,
   "metadata": {
    "scrolled": true
   },
   "outputs": [
    {
     "name": "stdout",
     "output_type": "stream",
     "text": [
      "Epoch 1/125\n",
      "100/100 [==============================] - 8s 85ms/step - loss: 3798.3332\n",
      "Epoch 2/125\n",
      "100/100 [==============================] - 0s 3ms/step - loss: 3758.9996\n",
      "Epoch 3/125\n",
      "100/100 [==============================] - 0s 4ms/step - loss: 3719.4948\n",
      "Epoch 4/125\n",
      "100/100 [==============================] - 0s 4ms/step - loss: 3680.5105\n",
      "Epoch 5/125\n",
      "100/100 [==============================] - 0s 4ms/step - loss: 3643.2284\n",
      "Epoch 6/125\n",
      "100/100 [==============================] - 0s 4ms/step - loss: 3604.6771\n",
      "Epoch 7/125\n",
      "100/100 [==============================] - 0s 4ms/step - loss: 3565.9562\n",
      "Epoch 8/125\n",
      "100/100 [==============================] - 0s 4ms/step - loss: 3528.5228\n",
      "Epoch 9/125\n",
      "100/100 [==============================] - 0s 4ms/step - loss: 3490.9091\n",
      "Epoch 10/125\n",
      "100/100 [==============================] - 0s 3ms/step - loss: 3452.3698\n",
      "Epoch 11/125\n",
      "100/100 [==============================] - 0s 4ms/step - loss: 3414.0900\n",
      "Epoch 12/125\n",
      "100/100 [==============================] - 0s 4ms/step - loss: 3374.8398\n",
      "Epoch 13/125\n",
      "100/100 [==============================] - 0s 4ms/step - loss: 3337.5104\n",
      "Epoch 14/125\n",
      "100/100 [==============================] - 0s 5ms/step - loss: 3299.8164\n",
      "Epoch 15/125\n",
      "100/100 [==============================] - 0s 4ms/step - loss: 3259.7207\n",
      "Epoch 16/125\n",
      "100/100 [==============================] - 0s 5ms/step - loss: 3220.8147\n",
      "Epoch 17/125\n",
      "100/100 [==============================] - 0s 4ms/step - loss: 3183.1726\n",
      "Epoch 18/125\n",
      "100/100 [==============================] - 0s 4ms/step - loss: 3140.0485\n",
      "Epoch 19/125\n",
      "100/100 [==============================] - 0s 5ms/step - loss: 3101.1232\n",
      "Epoch 20/125\n",
      "100/100 [==============================] - 0s 4ms/step - loss: 3060.0097\n",
      "Epoch 21/125\n",
      "100/100 [==============================] - 0s 4ms/step - loss: 3021.2526\n",
      "Epoch 22/125\n",
      "100/100 [==============================] - 0s 4ms/step - loss: 2979.8227\n",
      "Epoch 23/125\n",
      "100/100 [==============================] - 0s 4ms/step - loss: 2942.1591\n",
      "Epoch 24/125\n",
      "100/100 [==============================] - 0s 5ms/step - loss: 2901.9385\n",
      "Epoch 25/125\n",
      "100/100 [==============================] - 0s 4ms/step - loss: 2862.5930\n",
      "Epoch 26/125\n",
      "100/100 [==============================] - 0s 4ms/step - loss: 2822.9635\n",
      "Epoch 27/125\n",
      "100/100 [==============================] - 0s 4ms/step - loss: 2785.7552\n",
      "Epoch 28/125\n",
      "100/100 [==============================] - 1s 10ms/step - loss: 2743.9061\n",
      "Epoch 29/125\n",
      "100/100 [==============================] - 0s 4ms/step - loss: 2703.5070\n",
      "Epoch 30/125\n",
      "100/100 [==============================] - 0s 3ms/step - loss: 2661.7487\n",
      "Epoch 31/125\n",
      "100/100 [==============================] - 0s 5ms/step - loss: 2619.3957\n",
      "Epoch 32/125\n",
      "100/100 [==============================] - 0s 4ms/step - loss: 2576.6109\n",
      "Epoch 33/125\n",
      "100/100 [==============================] - 0s 3ms/step - loss: 2537.2317\n",
      "Epoch 34/125\n",
      "100/100 [==============================] - 0s 4ms/step - loss: 2496.1323\n",
      "Epoch 35/125\n",
      "100/100 [==============================] - 0s 3ms/step - loss: 2454.0848\n",
      "Epoch 36/125\n",
      "100/100 [==============================] - 0s 4ms/step - loss: 2414.1172: 0s - loss: 2443.64\n",
      "Epoch 37/125\n",
      "100/100 [==============================] - 1s 9ms/step - loss: 2373.2338\n",
      "Epoch 38/125\n",
      "100/100 [==============================] - 0s 4ms/step - loss: 2327.0836\n",
      "Epoch 39/125\n",
      "100/100 [==============================] - 0s 4ms/step - loss: 2257.6627: 0s - loss: 2227.57\n",
      "Epoch 40/125\n",
      "100/100 [==============================] - 0s 4ms/step - loss: 2181.5487\n",
      "Epoch 41/125\n",
      "100/100 [==============================] - 0s 4ms/step - loss: 2108.7554\n",
      "Epoch 42/125\n",
      "100/100 [==============================] - 0s 4ms/step - loss: 2023.2425\n",
      "Epoch 43/125\n",
      "100/100 [==============================] - 1s 6ms/step - loss: 1944.8123\n",
      "Epoch 44/125\n",
      "100/100 [==============================] - 0s 4ms/step - loss: 1864.4843\n",
      "Epoch 45/125\n",
      "100/100 [==============================] - 0s 4ms/step - loss: 1789.5381\n",
      "Epoch 46/125\n",
      "100/100 [==============================] - 0s 5ms/step - loss: 1711.6550\n",
      "Epoch 47/125\n",
      "100/100 [==============================] - ETA: 0s - loss: 1606.98 - 0s 4ms/step - loss: 1636.7152\n",
      "Epoch 48/125\n",
      "100/100 [==============================] - 0s 4ms/step - loss: 1563.4281\n",
      "Epoch 49/125\n",
      "100/100 [==============================] - 1s 5ms/step - loss: 1488.2676\n",
      "Epoch 50/125\n",
      "100/100 [==============================] - 0s 4ms/step - loss: 1416.9532\n",
      "Epoch 51/125\n",
      "100/100 [==============================] - 0s 4ms/step - loss: 1345.9271\n",
      "Epoch 52/125\n",
      "100/100 [==============================] - 0s 4ms/step - loss: 1266.7879\n",
      "Epoch 53/125\n",
      "100/100 [==============================] - 0s 4ms/step - loss: 1185.6310\n",
      "Epoch 54/125\n",
      "100/100 [==============================] - 0s 4ms/step - loss: 1105.4714\n",
      "Epoch 55/125\n",
      "100/100 [==============================] - 0s 4ms/step - loss: 1023.0545\n",
      "Epoch 56/125\n",
      "100/100 [==============================] - 0s 4ms/step - loss: 945.6754\n",
      "Epoch 57/125\n",
      "100/100 [==============================] - 0s 5ms/step - loss: 868.8269\n",
      "Epoch 58/125\n",
      "100/100 [==============================] - 0s 4ms/step - loss: 792.4165\n",
      "Epoch 59/125\n",
      "100/100 [==============================] - 1s 6ms/step - loss: 718.2472\n",
      "Epoch 60/125\n",
      "100/100 [==============================] - 1s 5ms/step - loss: 652.5615\n",
      "Epoch 61/125\n",
      "100/100 [==============================] - 0s 4ms/step - loss: 589.9135\n",
      "Epoch 62/125\n",
      "100/100 [==============================] - 0s 4ms/step - loss: 530.5201\n",
      "Epoch 63/125\n",
      "100/100 [==============================] - 0s 4ms/step - loss: 473.9998\n",
      "Epoch 64/125\n",
      "100/100 [==============================] - 0s 4ms/step - loss: 421.1052\n",
      "Epoch 65/125\n",
      "100/100 [==============================] - 0s 4ms/step - loss: 370.2481\n",
      "Epoch 66/125\n",
      "100/100 [==============================] - 0s 5ms/step - loss: 324.2800\n",
      "Epoch 67/125\n",
      "100/100 [==============================] - 1s 5ms/step - loss: 283.4379\n",
      "Epoch 68/125\n",
      "100/100 [==============================] - 0s 4ms/step - loss: 246.3414\n",
      "Epoch 69/125\n",
      "100/100 [==============================] - 0s 5ms/step - loss: 212.2081\n",
      "Epoch 70/125\n",
      "100/100 [==============================] - 0s 5ms/step - loss: 181.4879\n",
      "Epoch 71/125\n",
      "100/100 [==============================] - 0s 4ms/step - loss: 155.0148\n",
      "Epoch 72/125\n",
      "100/100 [==============================] - 0s 4ms/step - loss: 131.3230\n",
      "Epoch 73/125\n",
      "100/100 [==============================] - 0s 4ms/step - loss: 110.2796A: 0s - loss: 108.621\n",
      "Epoch 74/125\n",
      "100/100 [==============================] - 0s 4ms/step - loss: 92.8000\n",
      "Epoch 75/125\n",
      "100/100 [==============================] - 0s 4ms/step - loss: 77.6883\n",
      "Epoch 76/125\n",
      "100/100 [==============================] - 0s 4ms/step - loss: 65.4811\n",
      "Epoch 77/125\n",
      "100/100 [==============================] - 0s 4ms/step - loss: 54.9358\n",
      "Epoch 78/125\n",
      "100/100 [==============================] - 0s 4ms/step - loss: 46.8766\n",
      "Epoch 79/125\n",
      "100/100 [==============================] - 0s 4ms/step - loss: 40.3057\n",
      "Epoch 80/125\n",
      "100/100 [==============================] - 0s 4ms/step - loss: 34.9232: 0s - loss: 33.\n",
      "Epoch 81/125\n",
      "100/100 [==============================] - 0s 4ms/step - loss: 30.8398\n",
      "Epoch 82/125\n",
      "100/100 [==============================] - 0s 4ms/step - loss: 27.5941\n",
      "Epoch 83/125\n",
      "100/100 [==============================] - 0s 4ms/step - loss: 25.1174\n",
      "Epoch 84/125\n",
      "100/100 [==============================] - 0s 4ms/step - loss: 23.0429\n",
      "Epoch 85/125\n",
      "100/100 [==============================] - 0s 4ms/step - loss: 21.6008\n",
      "Epoch 86/125\n",
      "100/100 [==============================] - 0s 5ms/step - loss: 20.5361\n",
      "Epoch 87/125\n",
      "100/100 [==============================] - 0s 4ms/step - loss: 19.7352\n",
      "Epoch 88/125\n",
      "100/100 [==============================] - 0s 4ms/step - loss: 19.1994\n",
      "Epoch 89/125\n",
      "100/100 [==============================] - ETA: 0s - loss: 19.25 - 0s 4ms/step - loss: 18.8186\n",
      "Epoch 90/125\n",
      "100/100 [==============================] - 0s 4ms/step - loss: 18.5218\n",
      "Epoch 91/125\n",
      "100/100 [==============================] - 0s 4ms/step - loss: 18.3502\n",
      "Epoch 92/125\n",
      "100/100 [==============================] - 0s 4ms/step - loss: 18.2672\n",
      "Epoch 93/125\n",
      "100/100 [==============================] - 0s 4ms/step - loss: 18.1551\n",
      "Epoch 94/125\n",
      "100/100 [==============================] - 0s 4ms/step - loss: 18.1331\n",
      "Epoch 95/125\n"
     ]
    },
    {
     "name": "stdout",
     "output_type": "stream",
     "text": [
      "100/100 [==============================] - 0s 4ms/step - loss: 18.0886\n",
      "Epoch 96/125\n",
      "100/100 [==============================] - 0s 4ms/step - loss: 18.0228\n",
      "Epoch 97/125\n",
      "100/100 [==============================] - 0s 4ms/step - loss: 17.9969\n",
      "Epoch 98/125\n",
      "100/100 [==============================] - 0s 4ms/step - loss: 17.9997\n",
      "Epoch 99/125\n",
      "100/100 [==============================] - 0s 4ms/step - loss: 17.9957\n",
      "Epoch 100/125\n",
      "100/100 [==============================] - 0s 4ms/step - loss: 17.9914\n",
      "Epoch 101/125\n",
      "100/100 [==============================] - 0s 3ms/step - loss: 17.9977\n",
      "Epoch 102/125\n",
      "100/100 [==============================] - 1s 6ms/step - loss: 17.9946\n",
      "Epoch 103/125\n",
      "100/100 [==============================] - 0s 4ms/step - loss: 18.0008\n",
      "Epoch 104/125\n",
      "100/100 [==============================] - 0s 4ms/step - loss: 18.0009\n",
      "Epoch 105/125\n",
      "100/100 [==============================] - 0s 4ms/step - loss: 18.0117\n",
      "Epoch 106/125\n",
      "100/100 [==============================] - 0s 4ms/step - loss: 18.0325\n",
      "Epoch 107/125\n",
      "100/100 [==============================] - 0s 4ms/step - loss: 18.0207\n",
      "Epoch 108/125\n",
      "100/100 [==============================] - 0s 4ms/step - loss: 18.0100\n",
      "Epoch 109/125\n",
      "100/100 [==============================] - 0s 5ms/step - loss: 18.0088: 0s - loss: 18.23\n",
      "Epoch 110/125\n",
      "100/100 [==============================] - 0s 4ms/step - loss: 18.0277\n",
      "Epoch 111/125\n",
      "100/100 [==============================] - 0s 4ms/step - loss: 18.0422\n",
      "Epoch 112/125\n",
      "100/100 [==============================] - 1s 8ms/step - loss: 18.0460\n",
      "Epoch 113/125\n",
      "100/100 [==============================] - 1s 10ms/step - loss: 18.0501\n",
      "Epoch 114/125\n",
      "100/100 [==============================] - 1s 12ms/step - loss: 18.0542\n",
      "Epoch 115/125\n",
      "100/100 [==============================] - 1s 6ms/step - loss: 18.0664\n",
      "Epoch 116/125\n",
      "100/100 [==============================] - 0s 4ms/step - loss: 18.0551\n",
      "Epoch 117/125\n",
      "100/100 [==============================] - 1s 7ms/step - loss: 18.0224\n",
      "Epoch 118/125\n",
      "100/100 [==============================] - 1s 11ms/step - loss: 18.0127\n",
      "Epoch 119/125\n",
      "100/100 [==============================] - 0s 5ms/step - loss: 17.9958\n",
      "Epoch 120/125\n",
      "100/100 [==============================] - 0s 5ms/step - loss: 17.9743\n",
      "Epoch 121/125\n",
      "100/100 [==============================] - 1s 5ms/step - loss: 17.9848\n",
      "Epoch 122/125\n",
      "100/100 [==============================] - 1s 5ms/step - loss: 17.9687\n",
      "Epoch 123/125\n",
      "100/100 [==============================] - 1s 9ms/step - loss: 17.9610\n",
      "Epoch 124/125\n",
      "100/100 [==============================] - 1s 5ms/step - loss: 17.9739\n",
      "Epoch 125/125\n",
      "100/100 [==============================] - 0s 4ms/step - loss: 17.9718\n"
     ]
    },
    {
     "data": {
      "text/plain": [
       "<keras.callbacks.History at 0x1ec51dacdf0>"
      ]
     },
     "execution_count": 11,
     "metadata": {},
     "output_type": "execute_result"
    }
   ],
   "source": [
    "model.fit(x, y, epochs=125)"
   ]
  },
  {
   "cell_type": "code",
   "execution_count": 12,
   "metadata": {},
   "outputs": [
    {
     "data": {
      "text/plain": [
       "[3798.333203125,\n",
       " 3758.999638671875,\n",
       " 3719.494794921875,\n",
       " 3680.51052734375,\n",
       " 3643.2283984375,\n",
       " 3604.67712890625,\n",
       " 3565.956220703125,\n",
       " 3528.522763671875,\n",
       " 3490.9090625,\n",
       " 3452.369765625,\n",
       " 3414.0899609375,\n",
       " 3374.839765625,\n",
       " 3337.5103515625,\n",
       " 3299.81642578125,\n",
       " 3259.7206640625,\n",
       " 3220.8146875,\n",
       " 3183.172568359375,\n",
       " 3140.04853515625,\n",
       " 3101.12318359375,\n",
       " 3060.00966796875,\n",
       " 3021.25263671875,\n",
       " 2979.822685546875,\n",
       " 2942.1591015625,\n",
       " 2901.93849609375,\n",
       " 2862.5930224609374,\n",
       " 2822.9634765625,\n",
       " 2785.75515625,\n",
       " 2743.9060546875,\n",
       " 2703.506982421875,\n",
       " 2661.7487109375,\n",
       " 2619.395703125,\n",
       " 2576.61087890625,\n",
       " 2537.2316796875,\n",
       " 2496.13232421875,\n",
       " 2454.084765625,\n",
       " 2414.117236328125,\n",
       " 2373.23380859375,\n",
       " 2327.083564453125,\n",
       " 2257.662724609375,\n",
       " 2181.54869140625,\n",
       " 2108.755361328125,\n",
       " 2023.24251953125,\n",
       " 1944.8122705078124,\n",
       " 1864.4842810058594,\n",
       " 1789.538076171875,\n",
       " 1711.6549609375,\n",
       " 1636.715166015625,\n",
       " 1563.4280786132813,\n",
       " 1488.267607421875,\n",
       " 1416.95322265625,\n",
       " 1345.9271142578125,\n",
       " 1266.7878515625,\n",
       " 1185.6309765625,\n",
       " 1105.47138671875,\n",
       " 1023.05453125,\n",
       " 945.67541015625,\n",
       " 868.8269189453125,\n",
       " 792.4164965820313,\n",
       " 718.2472290039062,\n",
       " 652.5615063476563,\n",
       " 589.9134912109375,\n",
       " 530.5200537109375,\n",
       " 473.9997607421875,\n",
       " 421.10524291992186,\n",
       " 370.2480627441406,\n",
       " 324.2799914550781,\n",
       " 283.4379150390625,\n",
       " 246.34141357421876,\n",
       " 212.20809875488283,\n",
       " 181.48790405273436,\n",
       " 155.01484802246094,\n",
       " 131.3230422973633,\n",
       " 110.27958862304688,\n",
       " 92.799951171875,\n",
       " 77.6882748413086,\n",
       " 65.48111427307128,\n",
       " 54.9358447265625,\n",
       " 46.87660400390625,\n",
       " 40.30570526123047,\n",
       " 34.92315147399902,\n",
       " 30.839761962890623,\n",
       " 27.594073638916015,\n",
       " 25.117360076904298,\n",
       " 23.04289295196533,\n",
       " 21.600827941894533,\n",
       " 20.536138000488283,\n",
       " 19.73515369415283,\n",
       " 19.19939344406128,\n",
       " 18.81857978820801,\n",
       " 18.521802978515623,\n",
       " 18.350178985595704,\n",
       " 18.267227630615235,\n",
       " 18.155074462890624,\n",
       " 18.13307388305664,\n",
       " 18.088609085083007,\n",
       " 18.022835311889647,\n",
       " 17.996867485046387,\n",
       " 17.999686431884765,\n",
       " 17.995656700134276,\n",
       " 17.99138828277588,\n",
       " 17.997672653198244,\n",
       " 17.994583282470703,\n",
       " 18.000791473388674,\n",
       " 18.000911865234375,\n",
       " 18.011650199890138,\n",
       " 18.032473316192625,\n",
       " 18.020718994140626,\n",
       " 18.010014953613283,\n",
       " 18.008789939880373,\n",
       " 18.027692375183104,\n",
       " 18.042164726257326,\n",
       " 18.045962581634523,\n",
       " 18.05014762878418,\n",
       " 18.054246063232423,\n",
       " 18.066384773254395,\n",
       " 18.05507781982422,\n",
       " 18.022363967895508,\n",
       " 18.012679252624512,\n",
       " 17.995829582214355,\n",
       " 17.974255294799804,\n",
       " 17.984766540527342,\n",
       " 17.968738403320312,\n",
       " 17.96102939605713,\n",
       " 17.973913955688477,\n",
       " 17.971752433776857]"
      ]
     },
     "execution_count": 12,
     "metadata": {},
     "output_type": "execute_result"
    }
   ],
   "source": [
    "model.history.history['loss']"
   ]
  },
  {
   "cell_type": "code",
   "execution_count": 13,
   "metadata": {},
   "outputs": [
    {
     "data": {
      "text/plain": [
       "[<matplotlib.lines.Line2D at 0x1ec59fc9160>]"
      ]
     },
     "execution_count": 13,
     "metadata": {},
     "output_type": "execute_result"
    },
    {
     "data": {
      "image/png": "[encoded data removed]",
      "text/plain": [
       "<Figure size 432x288 with 1 Axes>"
      ]
     },
     "metadata": {
      "needs_background": "light"
     },
     "output_type": "display_data"
    }
   ],
   "source": [
    "loss = model.history.history['loss']\n",
    "epochs = range(len(loss))\n",
    "\n",
    "plt.plot(epochs, loss)"
   ]
  },
  {
   "cell_type": "code",
   "execution_count": 14,
   "metadata": {},
   "outputs": [],
   "source": [
    "x_for_predict = np.linspace(0, 50, 100)\n",
    "\n",
    "y_predict = model.predict(x_for_predict)"
   ]
  },
  {
   "cell_type": "code",
   "execution_count": 15,
   "metadata": {},
   "outputs": [
    {
     "data": {
      "text/plain": [
       "[<matplotlib.lines.Line2D at 0x1ec5a027850>]"
      ]
     },
     "execution_count": 15,
     "metadata": {},
     "output_type": "execute_result"
    },
    {
     "data": {
      "image/png": "[encoded data removed]",
      "text/plain": [
       "<Figure size 432x288 with 1 Axes>"
      ]
     },
     "metadata": {
      "needs_background": "light"
     },
     "output_type": "display_data"
    }
   ],
   "source": [
    "plt.plot(x, y, '*')\n",
    "plt.plot(x_for_predict, y_predict, 'r')"
   ]
  },
  {
   "cell_type": "code",
   "execution_count": 16,
   "metadata": {},
   "outputs": [
    {
     "data": {
      "text/plain": [
       "17.977261284255377"
      ]
     },
     "execution_count": 16,
     "metadata": {},
     "output_type": "execute_result"
    }
   ],
   "source": [
    "mean_squared_error(y, y_predict)"
   ]
  },
  {
   "cell_type": "markdown",
   "metadata": {},
   "source": [
    "# RNN Example"
   ]
  },
  {
   "cell_type": "code",
   "execution_count": 17,
   "metadata": {},
   "outputs": [
    {
     "data": {
      "text/html": [
       "<div>\n",
       "<style scoped>\n",
       "    .dataframe tbody tr th:only-of-type {\n",
       "        vertical-align: middle;\n",
       "    }\n",
       "\n",
       "    .dataframe tbody tr th {\n",
       "        vertical-align: top;\n",
       "    }\n",
       "\n",
       "    .dataframe thead th {\n",
       "        text-align: right;\n",
       "    }\n",
       "</style>\n",
       "<table border=\"1\" class=\"dataframe\">\n",
       "  <thead>\n",
       "    <tr style=\"text-align: right;\">\n",
       "      <th></th>\n",
       "      <th>S4248SM144NCEN</th>\n",
       "    </tr>\n",
       "    <tr>\n",
       "      <th>DATE</th>\n",
       "      <th></th>\n",
       "    </tr>\n",
       "  </thead>\n",
       "  <tbody>\n",
       "    <tr>\n",
       "      <th>1992-01-01</th>\n",
       "      <td>3459</td>\n",
       "    </tr>\n",
       "    <tr>\n",
       "      <th>1992-02-01</th>\n",
       "      <td>3458</td>\n",
       "    </tr>\n",
       "    <tr>\n",
       "      <th>1992-03-01</th>\n",
       "      <td>4002</td>\n",
       "    </tr>\n",
       "    <tr>\n",
       "      <th>1992-04-01</th>\n",
       "      <td>4564</td>\n",
       "    </tr>\n",
       "    <tr>\n",
       "      <th>1992-05-01</th>\n",
       "      <td>4221</td>\n",
       "    </tr>\n",
       "  </tbody>\n",
       "</table>\n",
       "</div>"
      ],
      "text/plain": [
       "            S4248SM144NCEN\n",
       "DATE                      \n",
       "1992-01-01            3459\n",
       "1992-02-01            3458\n",
       "1992-03-01            4002\n",
       "1992-04-01            4564\n",
       "1992-05-01            4221"
      ]
     },
     "execution_count": 17,
     "metadata": {},
     "output_type": "execute_result"
    }
   ],
   "source": [
    "df = pd.read_csv(\"UDEMY_TSA_FINAL/Data/Alcohol_Sales.csv\", index_col='DATE', parse_dates=True)\n",
    "df.head()"
   ]
  },
  {
   "cell_type": "code",
   "execution_count": 18,
   "metadata": {},
   "outputs": [
    {
     "data": {
      "text/html": [
       "<div>\n",
       "<style scoped>\n",
       "    .dataframe tbody tr th:only-of-type {\n",
       "        vertical-align: middle;\n",
       "    }\n",
       "\n",
       "    .dataframe tbody tr th {\n",
       "        vertical-align: top;\n",
       "    }\n",
       "\n",
       "    .dataframe thead th {\n",
       "        text-align: right;\n",
       "    }\n",
       "</style>\n",
       "<table border=\"1\" class=\"dataframe\">\n",
       "  <thead>\n",
       "    <tr style=\"text-align: right;\">\n",
       "      <th></th>\n",
       "      <th>Sales</th>\n",
       "    </tr>\n",
       "    <tr>\n",
       "      <th>DATE</th>\n",
       "      <th></th>\n",
       "    </tr>\n",
       "  </thead>\n",
       "  <tbody>\n",
       "    <tr>\n",
       "      <th>1992-01-01</th>\n",
       "      <td>3459</td>\n",
       "    </tr>\n",
       "    <tr>\n",
       "      <th>1992-02-01</th>\n",
       "      <td>3458</td>\n",
       "    </tr>\n",
       "    <tr>\n",
       "      <th>1992-03-01</th>\n",
       "      <td>4002</td>\n",
       "    </tr>\n",
       "    <tr>\n",
       "      <th>1992-04-01</th>\n",
       "      <td>4564</td>\n",
       "    </tr>\n",
       "    <tr>\n",
       "      <th>1992-05-01</th>\n",
       "      <td>4221</td>\n",
       "    </tr>\n",
       "  </tbody>\n",
       "</table>\n",
       "</div>"
      ],
      "text/plain": [
       "            Sales\n",
       "DATE             \n",
       "1992-01-01   3459\n",
       "1992-02-01   3458\n",
       "1992-03-01   4002\n",
       "1992-04-01   4564\n",
       "1992-05-01   4221"
      ]
     },
     "execution_count": 18,
     "metadata": {},
     "output_type": "execute_result"
    }
   ],
   "source": [
    "df.columns = ['Sales']\n",
    "df.head()"
   ]
  },
  {
   "cell_type": "code",
   "execution_count": 19,
   "metadata": {},
   "outputs": [
    {
     "data": {
      "text/plain": [
       "<AxesSubplot:xlabel='DATE'>"
      ]
     },
     "execution_count": 19,
     "metadata": {},
     "output_type": "execute_result"
    },
    {
     "data": {
      "image/png": "[encoded data removed]",
      "text/plain": [
       "<Figure size 864x576 with 1 Axes>"
      ]
     },
     "metadata": {
      "needs_background": "light"
     },
     "output_type": "display_data"
    }
   ],
   "source": [
    "df.plot(figsize=(12, 8))"
   ]
  },
  {
   "cell_type": "markdown",
   "metadata": {},
   "source": [
    "#### to bo continued"
   ]
  },
  {
   "cell_type": "code",
   "execution_count": null,
   "metadata": {},
   "outputs": [],
   "source": []
  }
 ],
 "metadata": {
  "kernelspec": {
   "display_name": "Python 3",
   "language": "python",
   "name": "python3"
  },
  "language_info": {
   "codemirror_mode": {
    "name": "ipython",
    "version": 3
   },
   "file_extension": ".py",
   "mimetype": "text/x-python",
   "name": "python",
   "nbconvert_exporter": "python",
   "pygments_lexer": "ipython3",
   "version": "3.9.1"
  }
 },
 "nbformat": 4,
 "nbformat_minor": 4
}
