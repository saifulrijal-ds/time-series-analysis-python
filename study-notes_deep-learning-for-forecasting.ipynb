{
 "cells": [
  {
   "cell_type": "markdown",
   "metadata": {},
   "source": [
    "# Keras Basics"
   ]
  },
  {
   "cell_type": "code",
   "execution_count": 1,
   "metadata": {},
   "outputs": [],
   "source": [
    "import os\n",
    "os.environ[\"KERAS_BACKEND\"] = \"plaidml.keras.backend\""
   ]
  },
  {
   "cell_type": "code",
   "execution_count": 2,
   "metadata": {},
   "outputs": [
    {
     "name": "stderr",
     "output_type": "stream",
     "text": [
      "Using plaidml.keras.backend backend.\n",
      "Matplotlib is building the font cache; this may take a moment.\n"
     ]
    }
   ],
   "source": [
    "import keras\n",
    "import numpy as np\n",
    "import pandas as pd\n",
    "import matplotlib.pyplot as plt\n",
    "\n",
    "from sklearn.metrics import mean_squared_error"
   ]
  },
  {
   "cell_type": "markdown",
   "metadata": {},
   "source": [
    "#### y = mx + b + noise"
   ]
  },
  {
   "cell_type": "code",
   "execution_count": 3,
   "metadata": {},
   "outputs": [],
   "source": [
    "m = 2\n",
    "b = 3\n",
    "x = np.linspace(0, 50, 100)"
   ]
  },
  {
   "cell_type": "code",
   "execution_count": 4,
   "metadata": {},
   "outputs": [],
   "source": [
    "np.random.seed(101)\n",
    "noise = np.random.normal(loc=0, scale=4, size=len(x))"
   ]
  },
  {
   "cell_type": "code",
   "execution_count": 5,
   "metadata": {},
   "outputs": [
    {
     "data": {
      "text/plain": [
       "array([ 1.08273994e+01,  2.51253084e+00,  3.63187779e+00,  2.01530302e+00,\n",
       "        2.60447179e+00, -1.27727218e+00, -3.39230793e+00,  2.42386140e+00,\n",
       "       -8.07267298e+00,  2.96048823e+00,  2.11525398e+00, -2.35600213e+00,\n",
       "        7.54781238e-01, -3.03548822e+00, -3.73294887e+00,  3.82022604e+00,\n",
       "        7.63177289e-01,  7.91502930e+00,  1.04238691e+01,  2.73403554e+00,\n",
       "        1.21066179e+00,  6.77489170e+00, -6.82434372e+00, -4.63647766e+00,\n",
       "       -5.39362882e-01,  1.56211137e+00,  6.67618544e-01,  7.38007437e-01,\n",
       "        3.23082366e+00,  2.91838701e-01,  2.55514805e+00,  1.31858520e+00,\n",
       "       -1.98841609e+00, -3.01627880e+00, -3.77362561e+00,  1.93900659e+00,\n",
       "       -4.67093266e-01,  7.60701918e+00,  9.52507835e-01,  7.98660914e+00,\n",
       "       -3.97305400e+00,  7.87198020e-01, -4.54657837e+00,  1.46591842e-03,\n",
       "        4.10393661e+00, -6.26391617e-01, -1.26316576e-01,  2.59930333e+00,\n",
       "        8.61938577e+00, -2.44103542e+00, -3.02130136e+00, -1.38567401e+00,\n",
       "        5.88107085e-01, -1.91779216e+00,  2.23507763e+00,  4.09924111e+00,\n",
       "       -3.70349704e+00,  7.45145655e+00, -4.53526865e+00,  2.44191163e+00,\n",
       "        1.54412125e+00,  8.33607412e+00, -1.50607470e+00,  9.21345374e-01,\n",
       "        2.72483717e+00,  4.14050030e+00, -1.24641926e-01,  7.75972924e+00,\n",
       "       -4.02074767e+00, -2.96715882e+00,  7.48498087e-01, -2.93138059e+00,\n",
       "       -5.53168039e+00,  5.92998198e+00,  3.84583262e+00, -8.56484916e+00,\n",
       "        3.97029381e+00,  4.76896255e+00, -4.18711815e+00,  5.17105831e+00,\n",
       "       -5.87005608e+00, -1.97638143e+00, -6.50138939e-01,  1.94323495e+00,\n",
       "        1.56995524e+00,  8.85962740e-01, -3.42078416e+00,  6.16796163e+00,\n",
       "        2.66527728e+00, -2.15293850e+00, -2.27432544e+00,  5.62935299e+00,\n",
       "        2.56722205e+00, -3.62039961e+00, -1.56462651e+00,  4.11317264e+00,\n",
       "       -7.89042041e+00, -3.46754014e+00,  2.88315040e+00, -4.89232815e+00])"
      ]
     },
     "execution_count": 5,
     "metadata": {},
     "output_type": "execute_result"
    }
   ],
   "source": [
    "noise"
   ]
  },
  {
   "cell_type": "code",
   "execution_count": 6,
   "metadata": {},
   "outputs": [],
   "source": [
    "y = m*x + b + noise"
   ]
  },
  {
   "cell_type": "code",
   "execution_count": 7,
   "metadata": {},
   "outputs": [
    {
     "data": {
      "text/plain": [
       "[<matplotlib.lines.Line2D at 0x7f5ef35dce20>]"
      ]
     },
     "execution_count": 7,
     "metadata": {},
     "output_type": "execute_result"
    },
    {
     "data": {
      "image/png": "[encoded data removed]",
      "text/plain": [
       "<Figure size 432x288 with 1 Axes>"
      ]
     },
     "metadata": {
      "needs_background": "light"
     },
     "output_type": "display_data"
    }
   ],
   "source": [
    "plt.plot(x, y, '*')"
   ]
  },
  {
   "cell_type": "code",
   "execution_count": 8,
   "metadata": {},
   "outputs": [],
   "source": [
    "from keras.models import Sequential\n",
    "from keras.layers import Dense"
   ]
  },
  {
   "cell_type": "code",
   "execution_count": 9,
   "metadata": {},
   "outputs": [
    {
     "name": "stderr",
     "output_type": "stream",
     "text": [
      "INFO:plaidml:Opening device \"opencl_nvidia_geforce_gt_740m.0\"\n"
     ]
    }
   ],
   "source": [
    "model = Sequential()\n",
    "\n",
    "model.add(Dense(4, input_dim=1, activation='relu'))\n",
    "\n",
    "model.add(Dense(4, activation='relu'))\n",
    "\n",
    "model.add(Dense(1, activation='linear'))\n",
    "\n",
    "model.compile(loss='mse', optimizer='adam')"
   ]
  },
  {
   "cell_type": "code",
   "execution_count": 10,
   "metadata": {},
   "outputs": [
    {
     "name": "stdout",
     "output_type": "stream",
     "text": [
      "_________________________________________________________________\n",
      "Layer (type)                 Output Shape              Param #   \n",
      "=================================================================\n",
      "dense_1 (Dense)              (None, 4)                 8         \n",
      "_________________________________________________________________\n",
      "dense_2 (Dense)              (None, 4)                 20        \n",
      "_________________________________________________________________\n",
      "dense_3 (Dense)              (None, 1)                 5         \n",
      "=================================================================\n",
      "Total params: 33\n",
      "Trainable params: 33\n",
      "Non-trainable params: 0\n",
      "_________________________________________________________________\n"
     ]
    }
   ],
   "source": [
    "model.summary()"
   ]
  },
  {
   "cell_type": "code",
   "execution_count": 11,
   "metadata": {
    "scrolled": true
   },
   "outputs": [
    {
     "name": "stdout",
     "output_type": "stream",
     "text": [
      "Epoch 1/125\n",
      "100/100 [==============================] - 6s 65ms/step - loss: 3798.3325\n",
      "Epoch 2/125\n",
      "100/100 [==============================] - 0s 450us/step - loss: 3758.9986\n",
      "Epoch 3/125\n",
      "100/100 [==============================] - 0s 539us/step - loss: 3719.4936\n",
      "Epoch 4/125\n",
      "100/100 [==============================] - 0s 640us/step - loss: 3680.5093\n",
      "Epoch 5/125\n",
      "100/100 [==============================] - 0s 496us/step - loss: 3643.2270\n",
      "Epoch 6/125\n",
      "100/100 [==============================] - 0s 546us/step - loss: 3604.6760\n",
      "Epoch 7/125\n",
      "100/100 [==============================] - 0s 492us/step - loss: 3565.9549\n",
      "Epoch 8/125\n",
      "100/100 [==============================] - 0s 625us/step - loss: 3528.5216\n",
      "Epoch 9/125\n",
      "100/100 [==============================] - 0s 499us/step - loss: 3490.9079\n",
      "Epoch 10/125\n",
      "100/100 [==============================] - 0s 442us/step - loss: 3452.3686\n",
      "Epoch 11/125\n",
      "100/100 [==============================] - 0s 500us/step - loss: 3414.0888\n",
      "Epoch 12/125\n",
      "100/100 [==============================] - 0s 516us/step - loss: 3374.8386\n",
      "Epoch 13/125\n",
      "100/100 [==============================] - 0s 577us/step - loss: 3337.5089\n",
      "Epoch 14/125\n",
      "100/100 [==============================] - 0s 438us/step - loss: 3299.8151\n",
      "Epoch 15/125\n",
      "100/100 [==============================] - 0s 497us/step - loss: 3259.7193\n",
      "Epoch 16/125\n",
      "100/100 [==============================] - 0s 499us/step - loss: 3220.8134\n",
      "Epoch 17/125\n",
      "100/100 [==============================] - 0s 430us/step - loss: 3183.1713\n",
      "Epoch 18/125\n",
      "100/100 [==============================] - 0s 355us/step - loss: 3140.0470\n",
      "Epoch 19/125\n",
      "100/100 [==============================] - 0s 421us/step - loss: 3101.1218\n",
      "Epoch 20/125\n",
      "100/100 [==============================] - 0s 497us/step - loss: 3060.0082\n",
      "Epoch 21/125\n",
      "100/100 [==============================] - 0s 556us/step - loss: 3021.2514\n",
      "Epoch 22/125\n",
      "100/100 [==============================] - 0s 499us/step - loss: 2979.8215\n",
      "Epoch 23/125\n",
      "100/100 [==============================] - 0s 485us/step - loss: 2942.1576\n",
      "Epoch 24/125\n",
      "100/100 [==============================] - 0s 506us/step - loss: 2901.9372\n",
      "Epoch 25/125\n",
      "100/100 [==============================] - 0s 479us/step - loss: 2862.5919\n",
      "Epoch 26/125\n",
      "100/100 [==============================] - 0s 470us/step - loss: 2822.9620\n",
      "Epoch 27/125\n",
      "100/100 [==============================] - 0s 528us/step - loss: 2785.7539\n",
      "Epoch 28/125\n",
      "100/100 [==============================] - 0s 567us/step - loss: 2743.9046\n",
      "Epoch 29/125\n",
      "100/100 [==============================] - 0s 589us/step - loss: 2703.5057\n",
      "Epoch 30/125\n",
      "100/100 [==============================] - 0s 347us/step - loss: 2661.7475\n",
      "Epoch 31/125\n",
      "100/100 [==============================] - 0s 488us/step - loss: 2619.3944\n",
      "Epoch 32/125\n",
      "100/100 [==============================] - 0s 523us/step - loss: 2576.6095\n",
      "Epoch 33/125\n",
      "100/100 [==============================] - 0s 650us/step - loss: 2537.2303\n",
      "Epoch 34/125\n",
      "100/100 [==============================] - 0s 467us/step - loss: 2496.1309\n",
      "Epoch 35/125\n",
      "100/100 [==============================] - 0s 557us/step - loss: 2454.0836\n",
      "Epoch 36/125\n",
      "100/100 [==============================] - 0s 513us/step - loss: 2414.1159\n",
      "Epoch 37/125\n",
      "100/100 [==============================] - 0s 579us/step - loss: 2373.2326\n",
      "Epoch 38/125\n",
      "100/100 [==============================] - 0s 530us/step - loss: 2327.0821\n",
      "Epoch 39/125\n",
      "100/100 [==============================] - 0s 459us/step - loss: 2257.6613\n",
      "Epoch 40/125\n",
      "100/100 [==============================] - 0s 506us/step - loss: 2181.5473\n",
      "Epoch 41/125\n",
      "100/100 [==============================] - 0s 421us/step - loss: 2108.7540\n",
      "Epoch 42/125\n",
      "100/100 [==============================] - 0s 537us/step - loss: 2023.2411\n",
      "Epoch 43/125\n",
      "100/100 [==============================] - 0s 651us/step - loss: 1944.8110\n",
      "Epoch 44/125\n",
      "100/100 [==============================] - 0s 449us/step - loss: 1864.4831\n",
      "Epoch 45/125\n",
      "100/100 [==============================] - 0s 387us/step - loss: 1789.5367\n",
      "Epoch 46/125\n",
      "100/100 [==============================] - 0s 455us/step - loss: 1711.6537\n",
      "Epoch 47/125\n",
      "100/100 [==============================] - 0s 662us/step - loss: 1636.7138\n",
      "Epoch 48/125\n",
      "100/100 [==============================] - 0s 595us/step - loss: 1563.4268\n",
      "Epoch 49/125\n",
      "100/100 [==============================] - 0s 533us/step - loss: 1488.2663\n",
      "Epoch 50/125\n",
      "100/100 [==============================] - 0s 499us/step - loss: 1416.9520\n",
      "Epoch 51/125\n",
      "100/100 [==============================] - 0s 497us/step - loss: 1345.9259\n",
      "Epoch 52/125\n",
      "100/100 [==============================] - 0s 441us/step - loss: 1266.7867\n",
      "Epoch 53/125\n",
      "100/100 [==============================] - 0s 652us/step - loss: 1185.6298\n",
      "Epoch 54/125\n",
      "100/100 [==============================] - 0s 392us/step - loss: 1105.4702\n",
      "Epoch 55/125\n",
      "100/100 [==============================] - 0s 426us/step - loss: 1023.0534\n",
      "Epoch 56/125\n",
      "100/100 [==============================] - 0s 458us/step - loss: 945.6744\n",
      "Epoch 57/125\n",
      "100/100 [==============================] - 0s 620us/step - loss: 868.8258\n",
      "Epoch 58/125\n",
      "100/100 [==============================] - 0s 441us/step - loss: 792.4155\n",
      "Epoch 59/125\n",
      "100/100 [==============================] - 0s 567us/step - loss: 718.2463\n",
      "Epoch 60/125\n",
      "100/100 [==============================] - 0s 629us/step - loss: 652.5605\n",
      "Epoch 61/125\n",
      "100/100 [==============================] - 0s 371us/step - loss: 589.9126\n",
      "Epoch 62/125\n",
      "100/100 [==============================] - 0s 460us/step - loss: 530.5193\n",
      "Epoch 63/125\n",
      "100/100 [==============================] - 0s 581us/step - loss: 473.9990\n",
      "Epoch 64/125\n",
      "100/100 [==============================] - 0s 473us/step - loss: 421.1045\n",
      "Epoch 65/125\n",
      "100/100 [==============================] - 0s 463us/step - loss: 370.2473\n",
      "Epoch 66/125\n",
      "100/100 [==============================] - 0s 474us/step - loss: 324.2794\n",
      "Epoch 67/125\n",
      "100/100 [==============================] - 0s 714us/step - loss: 283.4373\n",
      "Epoch 68/125\n",
      "100/100 [==============================] - 0s 524us/step - loss: 246.3409\n",
      "Epoch 69/125\n",
      "100/100 [==============================] - 0s 435us/step - loss: 212.2076\n",
      "Epoch 70/125\n",
      "100/100 [==============================] - 0s 616us/step - loss: 181.4874\n",
      "Epoch 71/125\n",
      "100/100 [==============================] - 0s 434us/step - loss: 155.0145\n",
      "Epoch 72/125\n",
      "100/100 [==============================] - 0s 495us/step - loss: 131.3227\n",
      "Epoch 73/125\n",
      "100/100 [==============================] - 0s 382us/step - loss: 110.2793\n",
      "Epoch 74/125\n",
      "100/100 [==============================] - 0s 644us/step - loss: 92.7998\n",
      "Epoch 75/125\n",
      "100/100 [==============================] - 0s 528us/step - loss: 77.6882\n",
      "Epoch 76/125\n",
      "100/100 [==============================] - 0s 509us/step - loss: 65.4810\n",
      "Epoch 77/125\n",
      "100/100 [==============================] - 0s 499us/step - loss: 54.9358\n",
      "Epoch 78/125\n",
      "100/100 [==============================] - 0s 465us/step - loss: 46.8765\n",
      "Epoch 79/125\n",
      "100/100 [==============================] - 0s 532us/step - loss: 40.3056\n",
      "Epoch 80/125\n",
      "100/100 [==============================] - 0s 334us/step - loss: 34.9231\n",
      "Epoch 81/125\n",
      "100/100 [==============================] - 0s 490us/step - loss: 30.8397\n",
      "Epoch 82/125\n",
      "100/100 [==============================] - 0s 615us/step - loss: 27.5940\n",
      "Epoch 83/125\n",
      "100/100 [==============================] - 0s 638us/step - loss: 25.1173\n",
      "Epoch 84/125\n",
      "100/100 [==============================] - 0s 529us/step - loss: 23.0429\n",
      "Epoch 85/125\n",
      "100/100 [==============================] - 0s 553us/step - loss: 21.6008\n",
      "Epoch 86/125\n",
      "100/100 [==============================] - 0s 500us/step - loss: 20.5361\n",
      "Epoch 87/125\n",
      "100/100 [==============================] - 0s 426us/step - loss: 19.7351\n",
      "Epoch 88/125\n",
      "100/100 [==============================] - 0s 490us/step - loss: 19.1994\n",
      "Epoch 89/125\n",
      "100/100 [==============================] - 0s 453us/step - loss: 18.8186\n",
      "Epoch 90/125\n",
      "100/100 [==============================] - 0s 459us/step - loss: 18.5218\n",
      "Epoch 91/125\n",
      "100/100 [==============================] - 0s 698us/step - loss: 18.3502\n",
      "Epoch 92/125\n",
      "100/100 [==============================] - 0s 574us/step - loss: 18.2672\n",
      "Epoch 93/125\n",
      "100/100 [==============================] - 0s 416us/step - loss: 18.1551\n",
      "Epoch 94/125\n"
     ]
    },
    {
     "name": "stdout",
     "output_type": "stream",
     "text": [
      "100/100 [==============================] - 0s 506us/step - loss: 18.1331\n",
      "Epoch 95/125\n",
      "100/100 [==============================] - 0s 498us/step - loss: 18.0886\n",
      "Epoch 96/125\n",
      "100/100 [==============================] - 0s 471us/step - loss: 18.0228\n",
      "Epoch 97/125\n",
      "100/100 [==============================] - 0s 513us/step - loss: 17.9969\n",
      "Epoch 98/125\n",
      "100/100 [==============================] - 0s 401us/step - loss: 17.9997\n",
      "Epoch 99/125\n",
      "100/100 [==============================] - 0s 365us/step - loss: 17.9957\n",
      "Epoch 100/125\n",
      "100/100 [==============================] - 0s 574us/step - loss: 17.9914\n",
      "Epoch 101/125\n",
      "100/100 [==============================] - 0s 436us/step - loss: 17.9977\n",
      "Epoch 102/125\n",
      "100/100 [==============================] - 0s 455us/step - loss: 17.9946\n",
      "Epoch 103/125\n",
      "100/100 [==============================] - 0s 463us/step - loss: 18.0008\n",
      "Epoch 104/125\n",
      "100/100 [==============================] - 0s 506us/step - loss: 18.0009\n",
      "Epoch 105/125\n",
      "100/100 [==============================] - 0s 407us/step - loss: 18.0117\n",
      "Epoch 106/125\n",
      "100/100 [==============================] - 0s 634us/step - loss: 18.0325\n",
      "Epoch 107/125\n",
      "100/100 [==============================] - 0s 558us/step - loss: 18.0207\n",
      "Epoch 108/125\n",
      "100/100 [==============================] - 0s 610us/step - loss: 18.0100\n",
      "Epoch 109/125\n",
      "100/100 [==============================] - 0s 526us/step - loss: 18.0088\n",
      "Epoch 110/125\n",
      "100/100 [==============================] - 0s 436us/step - loss: 18.0277\n",
      "Epoch 111/125\n",
      "100/100 [==============================] - 0s 423us/step - loss: 18.0422\n",
      "Epoch 112/125\n",
      "100/100 [==============================] - 0s 414us/step - loss: 18.0460\n",
      "Epoch 113/125\n",
      "100/100 [==============================] - 0s 466us/step - loss: 18.0501\n",
      "Epoch 114/125\n",
      "100/100 [==============================] - 0s 519us/step - loss: 18.0542\n",
      "Epoch 115/125\n",
      "100/100 [==============================] - 0s 453us/step - loss: 18.0664\n",
      "Epoch 116/125\n",
      "100/100 [==============================] - 0s 463us/step - loss: 18.0551\n",
      "Epoch 117/125\n",
      "100/100 [==============================] - 0s 436us/step - loss: 18.0224\n",
      "Epoch 118/125\n",
      "100/100 [==============================] - 0s 485us/step - loss: 18.0127\n",
      "Epoch 119/125\n",
      "100/100 [==============================] - 0s 510us/step - loss: 17.9958\n",
      "Epoch 120/125\n",
      "100/100 [==============================] - 0s 472us/step - loss: 17.9743\n",
      "Epoch 121/125\n",
      "100/100 [==============================] - 0s 582us/step - loss: 17.9848\n",
      "Epoch 122/125\n",
      "100/100 [==============================] - 0s 614us/step - loss: 17.9687\n",
      "Epoch 123/125\n",
      "100/100 [==============================] - 0s 580us/step - loss: 17.9610\n",
      "Epoch 124/125\n",
      "100/100 [==============================] - 0s 668us/step - loss: 17.9739\n",
      "Epoch 125/125\n",
      "100/100 [==============================] - 0s 411us/step - loss: 17.9717\n"
     ]
    },
    {
     "data": {
      "text/plain": [
       "<keras.callbacks.History at 0x7f5ef2db0f10>"
      ]
     },
     "execution_count": 11,
     "metadata": {},
     "output_type": "execute_result"
    }
   ],
   "source": [
    "model.fit(x, y, epochs=125)"
   ]
  },
  {
   "cell_type": "code",
   "execution_count": 12,
   "metadata": {},
   "outputs": [
    {
     "data": {
      "text/plain": [
       "[3798.3325,\n",
       " 3758.998564453125,\n",
       " 3719.49357421875,\n",
       " 3680.50931640625,\n",
       " 3643.2269921875,\n",
       " 3604.67599609375,\n",
       " 3565.95490234375,\n",
       " 3528.5215625,\n",
       " 3490.907900390625,\n",
       " 3452.3686328125,\n",
       " 3414.088759765625,\n",
       " 3374.8385546875,\n",
       " 3337.508896484375,\n",
       " 3299.8150830078125,\n",
       " 3259.7192578125,\n",
       " 3220.813359375,\n",
       " 3183.17126953125,\n",
       " 3140.046953125,\n",
       " 3101.121826171875,\n",
       " 3060.008212890625,\n",
       " 3021.25142578125,\n",
       " 2979.82154296875,\n",
       " 2942.1575927734375,\n",
       " 2901.9371875,\n",
       " 2862.5918994140625,\n",
       " 2822.962001953125,\n",
       " 2785.753876953125,\n",
       " 2743.9046484375,\n",
       " 2703.5056640625,\n",
       " 2661.747470703125,\n",
       " 2619.394423828125,\n",
       " 2576.6094921875,\n",
       " 2537.23033203125,\n",
       " 2496.1309375,\n",
       " 2454.083583984375,\n",
       " 2414.115947265625,\n",
       " 2373.23255859375,\n",
       " 2327.082119140625,\n",
       " 2257.661318359375,\n",
       " 2181.54728515625,\n",
       " 2108.75404296875,\n",
       " 2023.2410546875,\n",
       " 1944.811025390625,\n",
       " 1864.4830578613282,\n",
       " 1789.53669921875,\n",
       " 1711.653720703125,\n",
       " 1636.713837890625,\n",
       " 1563.4267993164062,\n",
       " 1488.266337890625,\n",
       " 1416.9519921875,\n",
       " 1345.925947265625,\n",
       " 1266.78671875,\n",
       " 1185.629765625,\n",
       " 1105.4702221679688,\n",
       " 1023.053388671875,\n",
       " 945.67435546875,\n",
       " 868.825810546875,\n",
       " 792.4154699707032,\n",
       " 718.2462548828125,\n",
       " 652.5605297851563,\n",
       " 589.9126379394531,\n",
       " 530.5192529296875,\n",
       " 473.998955078125,\n",
       " 421.1044921875,\n",
       " 370.24732666015626,\n",
       " 324.27935302734375,\n",
       " 283.4373254394531,\n",
       " 246.3408837890625,\n",
       " 212.20758850097656,\n",
       " 181.48742614746095,\n",
       " 155.01446533203125,\n",
       " 131.32272583007813,\n",
       " 110.27929748535156,\n",
       " 92.79978271484374,\n",
       " 77.68816986083985,\n",
       " 65.4810147857666,\n",
       " 54.93575805664062,\n",
       " 46.876517105102536,\n",
       " 40.305639114379886,\n",
       " 34.92310035705567,\n",
       " 30.839722290039063,\n",
       " 27.594037170410157,\n",
       " 25.117323608398436,\n",
       " 23.04286735534668,\n",
       " 21.60080291748047,\n",
       " 20.53611557006836,\n",
       " 19.735138816833498,\n",
       " 19.199380855560303,\n",
       " 18.818576278686525,\n",
       " 18.521799163818358,\n",
       " 18.350175552368164,\n",
       " 18.267224960327148,\n",
       " 18.15507682800293,\n",
       " 18.13307632446289,\n",
       " 18.088605728149414,\n",
       " 18.022835311889647,\n",
       " 17.99687080383301,\n",
       " 17.99969223022461,\n",
       " 17.995656604766847,\n",
       " 17.991388969421386,\n",
       " 17.997672729492187,\n",
       " 17.994577255249023,\n",
       " 18.000787811279295,\n",
       " 18.000911560058594,\n",
       " 18.011652717590334,\n",
       " 18.032472095489503,\n",
       " 18.020726013183594,\n",
       " 18.01001892089844,\n",
       " 18.00879051208496,\n",
       " 18.027689056396483,\n",
       " 18.04216230392456,\n",
       " 18.045954971313478,\n",
       " 18.050147552490234,\n",
       " 18.054243927001952,\n",
       " 18.06637825012207,\n",
       " 18.05507751464844,\n",
       " 18.022367248535158,\n",
       " 18.012682609558105,\n",
       " 17.995838241577147,\n",
       " 17.974255828857423,\n",
       " 17.984771118164062,\n",
       " 17.96874008178711,\n",
       " 17.96102897644043,\n",
       " 17.97391731262207,\n",
       " 17.97174491882324]"
      ]
     },
     "execution_count": 12,
     "metadata": {},
     "output_type": "execute_result"
    }
   ],
   "source": [
    "model.history.history['loss']"
   ]
  },
  {
   "cell_type": "code",
   "execution_count": 13,
   "metadata": {},
   "outputs": [
    {
     "data": {
      "text/plain": [
       "[<matplotlib.lines.Line2D at 0x7f5ef03b1550>]"
      ]
     },
     "execution_count": 13,
     "metadata": {},
     "output_type": "execute_result"
    },
    {
     "data": {
      "image/png": "[encoded data removed]",
      "text/plain": [
       "<Figure size 432x288 with 1 Axes>"
      ]
     },
     "metadata": {
      "needs_background": "light"
     },
     "output_type": "display_data"
    }
   ],
   "source": [
    "loss = model.history.history['loss']\n",
    "epochs = range(len(loss))\n",
    "\n",
    "plt.plot(epochs, loss)"
   ]
  },
  {
   "cell_type": "code",
   "execution_count": 14,
   "metadata": {},
   "outputs": [],
   "source": [
    "x_for_predict = np.linspace(0, 50, 100)\n",
    "\n",
    "y_predict = model.predict(x_for_predict)"
   ]
  },
  {
   "cell_type": "code",
   "execution_count": 15,
   "metadata": {},
   "outputs": [
    {
     "data": {
      "text/plain": [
       "[<matplotlib.lines.Line2D at 0x7f5ef03949a0>]"
      ]
     },
     "execution_count": 15,
     "metadata": {},
     "output_type": "execute_result"
    },
    {
     "data": {
      "image/png": "[encoded data removed]",
      "text/plain": [
       "<Figure size 432x288 with 1 Axes>"
      ]
     },
     "metadata": {
      "needs_background": "light"
     },
     "output_type": "display_data"
    }
   ],
   "source": [
    "plt.plot(x, y, '*')\n",
    "plt.plot(x_for_predict, y_predict, 'r')"
   ]
  },
  {
   "cell_type": "code",
   "execution_count": 16,
   "metadata": {},
   "outputs": [
    {
     "data": {
      "text/plain": [
       "17.977262216185558"
      ]
     },
     "execution_count": 16,
     "metadata": {},
     "output_type": "execute_result"
    }
   ],
   "source": [
    "mean_squared_error(y, y_predict)"
   ]
  },
  {
   "cell_type": "markdown",
   "metadata": {},
   "source": [
    "# RNN Example"
   ]
  },
  {
   "cell_type": "code",
   "execution_count": 17,
   "metadata": {},
   "outputs": [
    {
     "data": {
      "text/html": [
       "<div>\n",
       "<style scoped>\n",
       "    .dataframe tbody tr th:only-of-type {\n",
       "        vertical-align: middle;\n",
       "    }\n",
       "\n",
       "    .dataframe tbody tr th {\n",
       "        vertical-align: top;\n",
       "    }\n",
       "\n",
       "    .dataframe thead th {\n",
       "        text-align: right;\n",
       "    }\n",
       "</style>\n",
       "<table border=\"1\" class=\"dataframe\">\n",
       "  <thead>\n",
       "    <tr style=\"text-align: right;\">\n",
       "      <th></th>\n",
       "      <th>S4248SM144NCEN</th>\n",
       "    </tr>\n",
       "    <tr>\n",
       "      <th>DATE</th>\n",
       "      <th></th>\n",
       "    </tr>\n",
       "  </thead>\n",
       "  <tbody>\n",
       "    <tr>\n",
       "      <th>1992-01-01</th>\n",
       "      <td>3459</td>\n",
       "    </tr>\n",
       "    <tr>\n",
       "      <th>1992-02-01</th>\n",
       "      <td>3458</td>\n",
       "    </tr>\n",
       "    <tr>\n",
       "      <th>1992-03-01</th>\n",
       "      <td>4002</td>\n",
       "    </tr>\n",
       "    <tr>\n",
       "      <th>1992-04-01</th>\n",
       "      <td>4564</td>\n",
       "    </tr>\n",
       "    <tr>\n",
       "      <th>1992-05-01</th>\n",
       "      <td>4221</td>\n",
       "    </tr>\n",
       "  </tbody>\n",
       "</table>\n",
       "</div>"
      ],
      "text/plain": [
       "            S4248SM144NCEN\n",
       "DATE                      \n",
       "1992-01-01            3459\n",
       "1992-02-01            3458\n",
       "1992-03-01            4002\n",
       "1992-04-01            4564\n",
       "1992-05-01            4221"
      ]
     },
     "execution_count": 17,
     "metadata": {},
     "output_type": "execute_result"
    }
   ],
   "source": [
    "df = pd.read_csv(\"UDEMY_TSA_FINAL/Data/Alcohol_Sales.csv\", index_col='DATE', parse_dates=True)\n",
    "df.head()"
   ]
  },
  {
   "cell_type": "code",
   "execution_count": 18,
   "metadata": {},
   "outputs": [
    {
     "data": {
      "text/html": [
       "<div>\n",
       "<style scoped>\n",
       "    .dataframe tbody tr th:only-of-type {\n",
       "        vertical-align: middle;\n",
       "    }\n",
       "\n",
       "    .dataframe tbody tr th {\n",
       "        vertical-align: top;\n",
       "    }\n",
       "\n",
       "    .dataframe thead th {\n",
       "        text-align: right;\n",
       "    }\n",
       "</style>\n",
       "<table border=\"1\" class=\"dataframe\">\n",
       "  <thead>\n",
       "    <tr style=\"text-align: right;\">\n",
       "      <th></th>\n",
       "      <th>Sales</th>\n",
       "    </tr>\n",
       "    <tr>\n",
       "      <th>DATE</th>\n",
       "      <th></th>\n",
       "    </tr>\n",
       "  </thead>\n",
       "  <tbody>\n",
       "    <tr>\n",
       "      <th>1992-01-01</th>\n",
       "      <td>3459</td>\n",
       "    </tr>\n",
       "    <tr>\n",
       "      <th>1992-02-01</th>\n",
       "      <td>3458</td>\n",
       "    </tr>\n",
       "    <tr>\n",
       "      <th>1992-03-01</th>\n",
       "      <td>4002</td>\n",
       "    </tr>\n",
       "    <tr>\n",
       "      <th>1992-04-01</th>\n",
       "      <td>4564</td>\n",
       "    </tr>\n",
       "    <tr>\n",
       "      <th>1992-05-01</th>\n",
       "      <td>4221</td>\n",
       "    </tr>\n",
       "  </tbody>\n",
       "</table>\n",
       "</div>"
      ],
      "text/plain": [
       "            Sales\n",
       "DATE             \n",
       "1992-01-01   3459\n",
       "1992-02-01   3458\n",
       "1992-03-01   4002\n",
       "1992-04-01   4564\n",
       "1992-05-01   4221"
      ]
     },
     "execution_count": 18,
     "metadata": {},
     "output_type": "execute_result"
    }
   ],
   "source": [
    "df.columns = ['Sales']\n",
    "df.head()"
   ]
  },
  {
   "cell_type": "code",
   "execution_count": 19,
   "metadata": {},
   "outputs": [
    {
     "data": {
      "text/plain": [
       "<AxesSubplot:xlabel='DATE'>"
      ]
     },
     "execution_count": 19,
     "metadata": {},
     "output_type": "execute_result"
    },
    {
     "data": {
      "image/png": "[encoded data removed]",
      "text/plain": [
       "<Figure size 864x576 with 1 Axes>"
      ]
     },
     "metadata": {
      "needs_background": "light"
     },
     "output_type": "display_data"
    }
   ],
   "source": [
    "df.plot(figsize=(12, 8))"
   ]
  },
  {
   "cell_type": "code",
   "execution_count": 20,
   "metadata": {},
   "outputs": [],
   "source": [
    "# import seasonal decompose\n",
    "from statsmodels.tsa.seasonal import seasonal_decompose"
   ]
  },
  {
   "cell_type": "code",
   "execution_count": 21,
   "metadata": {},
   "outputs": [],
   "source": [
    "ets = seasonal_decompose(df['Sales'])"
   ]
  },
  {
   "cell_type": "code",
   "execution_count": 22,
   "metadata": {},
   "outputs": [
    {
     "data": {
      "image/png": "[encoded data removed]",
      "text/plain": [
       "<Figure size 432x288 with 4 Axes>"
      ]
     },
     "metadata": {
      "needs_background": "light"
     },
     "output_type": "display_data"
    }
   ],
   "source": [
    "ets.plot();"
   ]
  },
  {
   "cell_type": "code",
   "execution_count": 23,
   "metadata": {},
   "outputs": [
    {
     "data": {
      "text/plain": [
       "<AxesSubplot:xlabel='DATE'>"
      ]
     },
     "execution_count": 23,
     "metadata": {},
     "output_type": "execute_result"
    },
    {
     "data": {
      "image/png": "[encoded data removed]",
      "text/plain": [
       "<Figure size 864x288 with 1 Axes>"
      ]
     },
     "metadata": {
      "needs_background": "light"
     },
     "output_type": "display_data"
    }
   ],
   "source": [
    "ets.seasonal.plot(figsize=(12, 4))"
   ]
  },
  {
   "cell_type": "code",
   "execution_count": 24,
   "metadata": {},
   "outputs": [],
   "source": [
    "# train test split\n",
    "nobs = 12\n",
    "train = df[:-nobs]\n",
    "test = df[-nobs:]"
   ]
  },
  {
   "cell_type": "code",
   "execution_count": 25,
   "metadata": {},
   "outputs": [
    {
     "data": {
      "text/html": [
       "<div>\n",
       "<style scoped>\n",
       "    .dataframe tbody tr th:only-of-type {\n",
       "        vertical-align: middle;\n",
       "    }\n",
       "\n",
       "    .dataframe tbody tr th {\n",
       "        vertical-align: top;\n",
       "    }\n",
       "\n",
       "    .dataframe thead th {\n",
       "        text-align: right;\n",
       "    }\n",
       "</style>\n",
       "<table border=\"1\" class=\"dataframe\">\n",
       "  <thead>\n",
       "    <tr style=\"text-align: right;\">\n",
       "      <th></th>\n",
       "      <th>Sales</th>\n",
       "    </tr>\n",
       "    <tr>\n",
       "      <th>DATE</th>\n",
       "      <th></th>\n",
       "    </tr>\n",
       "  </thead>\n",
       "  <tbody>\n",
       "    <tr>\n",
       "      <th>2018-02-01</th>\n",
       "      <td>10415</td>\n",
       "    </tr>\n",
       "    <tr>\n",
       "      <th>2018-03-01</th>\n",
       "      <td>12683</td>\n",
       "    </tr>\n",
       "    <tr>\n",
       "      <th>2018-04-01</th>\n",
       "      <td>11919</td>\n",
       "    </tr>\n",
       "    <tr>\n",
       "      <th>2018-05-01</th>\n",
       "      <td>14138</td>\n",
       "    </tr>\n",
       "    <tr>\n",
       "      <th>2018-06-01</th>\n",
       "      <td>14583</td>\n",
       "    </tr>\n",
       "    <tr>\n",
       "      <th>2018-07-01</th>\n",
       "      <td>12640</td>\n",
       "    </tr>\n",
       "    <tr>\n",
       "      <th>2018-08-01</th>\n",
       "      <td>14257</td>\n",
       "    </tr>\n",
       "    <tr>\n",
       "      <th>2018-09-01</th>\n",
       "      <td>12396</td>\n",
       "    </tr>\n",
       "    <tr>\n",
       "      <th>2018-10-01</th>\n",
       "      <td>13914</td>\n",
       "    </tr>\n",
       "    <tr>\n",
       "      <th>2018-11-01</th>\n",
       "      <td>14174</td>\n",
       "    </tr>\n",
       "    <tr>\n",
       "      <th>2018-12-01</th>\n",
       "      <td>15504</td>\n",
       "    </tr>\n",
       "    <tr>\n",
       "      <th>2019-01-01</th>\n",
       "      <td>10718</td>\n",
       "    </tr>\n",
       "  </tbody>\n",
       "</table>\n",
       "</div>"
      ],
      "text/plain": [
       "            Sales\n",
       "DATE             \n",
       "2018-02-01  10415\n",
       "2018-03-01  12683\n",
       "2018-04-01  11919\n",
       "2018-05-01  14138\n",
       "2018-06-01  14583\n",
       "2018-07-01  12640\n",
       "2018-08-01  14257\n",
       "2018-09-01  12396\n",
       "2018-10-01  13914\n",
       "2018-11-01  14174\n",
       "2018-12-01  15504\n",
       "2019-01-01  10718"
      ]
     },
     "execution_count": 25,
     "metadata": {},
     "output_type": "execute_result"
    }
   ],
   "source": [
    "test"
   ]
  },
  {
   "cell_type": "code",
   "execution_count": 26,
   "metadata": {},
   "outputs": [],
   "source": [
    "# as a neural network input, it requires scaling the data\n",
    "\n",
    "# import MinMax scaler\n",
    "from sklearn.preprocessing import MinMaxScaler"
   ]
  },
  {
   "cell_type": "code",
   "execution_count": 27,
   "metadata": {},
   "outputs": [],
   "source": [
    "scaler = MinMaxScaler()"
   ]
  },
  {
   "cell_type": "code",
   "execution_count": 28,
   "metadata": {},
   "outputs": [
    {
     "data": {
      "text/plain": [
       "MinMaxScaler()"
      ]
     },
     "execution_count": 28,
     "metadata": {},
     "output_type": "execute_result"
    }
   ],
   "source": [
    "scaler.fit(train)"
   ]
  },
  {
   "cell_type": "code",
   "execution_count": 29,
   "metadata": {},
   "outputs": [],
   "source": [
    "scaled_train = scaler.transform(train)\n",
    "scaled_test = scaler.transform(test)"
   ]
  },
  {
   "cell_type": "code",
   "execution_count": 30,
   "metadata": {},
   "outputs": [],
   "source": [
    "# As input to a recurrent neural network, a sequential object is required\n",
    "# [t1, t2, t3] --> [t4]\n",
    "\n",
    "# import TimeseriesGenerator\n",
    "from keras.preprocessing.sequence import TimeseriesGenerator"
   ]
  },
  {
   "cell_type": "code",
   "execution_count": 31,
   "metadata": {},
   "outputs": [],
   "source": [
    "n_input = 2\n",
    "n_features =1\n",
    "\n",
    "generator = TimeseriesGenerator(scaled_train, scaled_train, length=n_input, batch_size=1)"
   ]
  },
  {
   "cell_type": "code",
   "execution_count": 32,
   "metadata": {},
   "outputs": [
    {
     "data": {
      "text/plain": [
       "313"
      ]
     },
     "execution_count": 32,
     "metadata": {},
     "output_type": "execute_result"
    }
   ],
   "source": [
    "len(scaled_train)"
   ]
  },
  {
   "cell_type": "code",
   "execution_count": 33,
   "metadata": {},
   "outputs": [
    {
     "data": {
      "text/plain": [
       "311"
      ]
     },
     "execution_count": 33,
     "metadata": {},
     "output_type": "execute_result"
    }
   ],
   "source": [
    "len(generator)"
   ]
  },
  {
   "cell_type": "code",
   "execution_count": 34,
   "metadata": {},
   "outputs": [
    {
     "data": {
      "text/plain": [
       "(array([[[0.03658432],\n",
       "         [0.03649885]]]),\n",
       " array([[0.08299855]]))"
      ]
     },
     "execution_count": 34,
     "metadata": {},
     "output_type": "execute_result"
    }
   ],
   "source": [
    "generator[0]"
   ]
  },
  {
   "cell_type": "code",
   "execution_count": 35,
   "metadata": {},
   "outputs": [
    {
     "data": {
      "text/plain": [
       "(array([[[0.03658432],\n",
       "         [0.03649885]]]),\n",
       " array([[0.08299855]]))"
      ]
     },
     "execution_count": 35,
     "metadata": {},
     "output_type": "execute_result"
    }
   ],
   "source": [
    "# shape of Timeseries generator object\n",
    "X, y = generator[0]\n",
    "generator[0]"
   ]
  },
  {
   "cell_type": "code",
   "execution_count": 36,
   "metadata": {},
   "outputs": [
    {
     "data": {
      "text/plain": [
       "array([[[0.03658432],\n",
       "        [0.03649885]]])"
      ]
     },
     "execution_count": 36,
     "metadata": {},
     "output_type": "execute_result"
    }
   ],
   "source": [
    "X"
   ]
  },
  {
   "cell_type": "code",
   "execution_count": 37,
   "metadata": {},
   "outputs": [
    {
     "data": {
      "text/plain": [
       "array([[0.08299855]])"
      ]
     },
     "execution_count": 37,
     "metadata": {},
     "output_type": "execute_result"
    }
   ],
   "source": [
    "y"
   ]
  },
  {
   "cell_type": "markdown",
   "metadata": {},
   "source": [
    "check and compare it with scaled_train data"
   ]
  },
  {
   "cell_type": "code",
   "execution_count": 38,
   "metadata": {},
   "outputs": [
    {
     "data": {
      "text/plain": [
       "array([[0.03658432],\n",
       "       [0.03649885],\n",
       "       [0.08299855],\n",
       "       [0.13103684],\n",
       "       [0.1017181 ]])"
      ]
     },
     "execution_count": 38,
     "metadata": {},
     "output_type": "execute_result"
    }
   ],
   "source": [
    "scaled_train[:5]"
   ]
  },
  {
   "cell_type": "code",
   "execution_count": 39,
   "metadata": {},
   "outputs": [],
   "source": [
    "from keras.models import Sequential\n",
    "from keras.layers import Dense\n",
    "from keras.layers import LSTM"
   ]
  },
  {
   "cell_type": "code",
   "execution_count": 40,
   "metadata": {},
   "outputs": [],
   "source": [
    "n_input = 12 # we have seasonality with an annual cycle (monthly data)\n",
    "n_features = 1 # in the time series we only use one feature\n",
    "\n",
    "train_generator = TimeseriesGenerator(scaled_train, scaled_train, length=n_input, batch_size=1)"
   ]
  },
  {
   "cell_type": "code",
   "execution_count": 41,
   "metadata": {},
   "outputs": [],
   "source": [
    "model = Sequential()\n",
    "\n",
    "model.add(LSTM(150, activation='tanh', input_shape=(n_input, n_features))) # number of neurons choose by experiment\n",
    "model.add(Dense(1))\n",
    "\n",
    "model.compile(optimizer='adam', loss='mse')"
   ]
  },
  {
   "cell_type": "code",
   "execution_count": 42,
   "metadata": {},
   "outputs": [
    {
     "name": "stdout",
     "output_type": "stream",
     "text": [
      "_________________________________________________________________\n",
      "Layer (type)                 Output Shape              Param #   \n",
      "=================================================================\n",
      "lstm_1 (LSTM)                (None, 150)               91200     \n",
      "_________________________________________________________________\n",
      "dense_4 (Dense)              (None, 1)                 151       \n",
      "=================================================================\n",
      "Total params: 91,351\n",
      "Trainable params: 91,351\n",
      "Non-trainable params: 0\n",
      "_________________________________________________________________\n"
     ]
    }
   ],
   "source": [
    "model.summary()"
   ]
  },
  {
   "cell_type": "code",
   "execution_count": 43,
   "metadata": {},
   "outputs": [
    {
     "name": "stdout",
     "output_type": "stream",
     "text": [
      "Epoch 1/25\n",
      "301/301 [==============================] - 25s 83ms/step - loss: 0.0150\n",
      "Epoch 2/25\n",
      "301/301 [==============================] - 11s 35ms/step - loss: 0.0109\n",
      "Epoch 3/25\n",
      "301/301 [==============================] - 11s 37ms/step - loss: 0.0103\n",
      "Epoch 4/25\n",
      "301/301 [==============================] - 12s 38ms/step - loss: 0.0091\n",
      "Epoch 5/25\n",
      "301/301 [==============================] - 11s 38ms/step - loss: 0.0088\n",
      "Epoch 6/25\n",
      "301/301 [==============================] - 11s 35ms/step - loss: 0.0084\n",
      "Epoch 7/25\n",
      "301/301 [==============================] - 11s 36ms/step - loss: 0.0090\n",
      "Epoch 8/25\n",
      "301/301 [==============================] - 11s 35ms/step - loss: 0.0084\n",
      "Epoch 9/25\n",
      "301/301 [==============================] - 10s 34ms/step - loss: 0.0085\n",
      "Epoch 10/25\n",
      "301/301 [==============================] - 11s 35ms/step - loss: 0.0088\n",
      "Epoch 11/25\n",
      "301/301 [==============================] - 12s 39ms/step - loss: 0.0091\n",
      "Epoch 12/25\n",
      "301/301 [==============================] - 12s 38ms/step - loss: 0.0088\n",
      "Epoch 13/25\n",
      "301/301 [==============================] - 11s 38ms/step - loss: 0.0088\n",
      "Epoch 14/25\n",
      "301/301 [==============================] - 12s 41ms/step - loss: 0.0090\n",
      "Epoch 15/25\n",
      "301/301 [==============================] - 14s 46ms/step - loss: 0.0079\n",
      "Epoch 16/25\n",
      "301/301 [==============================] - 14s 48ms/step - loss: 0.0081\n",
      "Epoch 17/25\n",
      "301/301 [==============================] - 13s 43ms/step - loss: 0.0072\n",
      "Epoch 18/25\n",
      "301/301 [==============================] - 11s 38ms/step - loss: 0.0079\n",
      "Epoch 19/25\n",
      "301/301 [==============================] - 13s 45ms/step - loss: 0.0068\n",
      "Epoch 20/25\n",
      "301/301 [==============================] - 14s 45ms/step - loss: 0.0070\n",
      "Epoch 21/25\n",
      "301/301 [==============================] - 13s 44ms/step - loss: 0.0058\n",
      "Epoch 22/25\n",
      "301/301 [==============================] - 13s 44ms/step - loss: 0.0066\n",
      "Epoch 23/25\n",
      "301/301 [==============================] - 14s 47ms/step - loss: 0.0052\n",
      "Epoch 24/25\n",
      "301/301 [==============================] - 13s 43ms/step - loss: 0.0049\n",
      "Epoch 25/25\n",
      "301/301 [==============================] - 13s 43ms/step - loss: 0.0045\n"
     ]
    },
    {
     "data": {
      "text/plain": [
       "<keras.callbacks.History at 0x7f5ee9609be0>"
      ]
     },
     "execution_count": 43,
     "metadata": {},
     "output_type": "execute_result"
    }
   ],
   "source": [
    "model.fit_generator(train_generator, epochs=25)"
   ]
  },
  {
   "cell_type": "code",
   "execution_count": 44,
   "metadata": {},
   "outputs": [
    {
     "data": {
      "text/plain": [
       "[<matplotlib.lines.Line2D at 0x7f5ee8d58760>]"
      ]
     },
     "execution_count": 44,
     "metadata": {},
     "output_type": "execute_result"
    },
    {
     "data": {
      "image/png": "[encoded data removed]",
      "text/plain": [
       "<Figure size 432x288 with 1 Axes>"
      ]
     },
     "metadata": {
      "needs_background": "light"
     },
     "output_type": "display_data"
    }
   ],
   "source": [
    "loss = model.history.history['loss']\n",
    "epochs = range(len(loss))\n",
    "\n",
    "plt.plot(epochs, loss)"
   ]
  },
  {
   "cell_type": "code",
   "execution_count": 45,
   "metadata": {},
   "outputs": [
    {
     "data": {
      "text/plain": [
       "array([[0.63432772],\n",
       "       [0.80776135],\n",
       "       [0.72313873],\n",
       "       [0.89870929],\n",
       "       [1.        ],\n",
       "       [0.71672793],\n",
       "       [0.88648602],\n",
       "       [0.75869732],\n",
       "       [0.82742115],\n",
       "       [0.87443371],\n",
       "       [0.96025301],\n",
       "       [0.5584238 ]])"
      ]
     },
     "execution_count": 45,
     "metadata": {},
     "output_type": "execute_result"
    }
   ],
   "source": [
    "first_eval_batch = scaled_train[-12:]\n",
    "first_eval_batch"
   ]
  },
  {
   "cell_type": "code",
   "execution_count": 46,
   "metadata": {},
   "outputs": [],
   "source": [
    "first_eval_batch = first_eval_batch.reshape((1, n_input, n_features))"
   ]
  },
  {
   "cell_type": "code",
   "execution_count": 47,
   "metadata": {},
   "outputs": [
    {
     "data": {
      "text/plain": [
       "array([[0.7169677]], dtype=float32)"
      ]
     },
     "execution_count": 47,
     "metadata": {},
     "output_type": "execute_result"
    }
   ],
   "source": [
    "model.predict(first_eval_batch)"
   ]
  },
  {
   "cell_type": "markdown",
   "metadata": {},
   "source": [
    "### Forecast Using RNN Model"
   ]
  },
  {
   "cell_type": "code",
   "execution_count": 48,
   "metadata": {},
   "outputs": [],
   "source": [
    "# hold the predictions\n",
    "test_predictions = []\n",
    "\n",
    "# last n_input from the training set\n",
    "first_eval_batch = scaled_train[-n_input:]\n",
    "\n",
    "# rehsape to format RNN wants (same as TimeseriesGenearator object shape)\n",
    "current_batch = first_eval_batch.reshape((1, n_input, n_features))\n",
    "\n",
    "for i in range(len(test)):\n",
    "    \n",
    "    current_pred = model.predict(current_batch)[0]\n",
    "    \n",
    "    test_predictions.append(current_pred)\n",
    "    \n",
    "    current_batch = np.append(current_batch[:, 1:, :], [[current_pred]], axis=1)"
   ]
  },
  {
   "cell_type": "code",
   "execution_count": 49,
   "metadata": {},
   "outputs": [
    {
     "data": {
      "text/plain": [
       "[array([0.7169677], dtype=float32),\n",
       " array([0.7823301], dtype=float32),\n",
       " array([0.7852189], dtype=float32),\n",
       " array([0.8213074], dtype=float32),\n",
       " array([0.83587354], dtype=float32),\n",
       " array([0.7932006], dtype=float32),\n",
       " array([0.8170832], dtype=float32),\n",
       " array([0.81011677], dtype=float32),\n",
       " array([0.83311325], dtype=float32),\n",
       " array([0.851438], dtype=float32),\n",
       " array([0.847557], dtype=float32),\n",
       " array([0.7009098], dtype=float32)]"
      ]
     },
     "execution_count": 49,
     "metadata": {},
     "output_type": "execute_result"
    }
   ],
   "source": [
    "test_predictions"
   ]
  },
  {
   "cell_type": "code",
   "execution_count": 50,
   "metadata": {},
   "outputs": [],
   "source": [
    "test_predictions = scaler.inverse_transform(test_predictions)"
   ]
  },
  {
   "cell_type": "code",
   "execution_count": 51,
   "metadata": {},
   "outputs": [
    {
     "name": "stderr",
     "output_type": "stream",
     "text": [
      "<ipython-input-51-ca26a8752f84>:1: SettingWithCopyWarning: \n",
      "A value is trying to be set on a copy of a slice from a DataFrame.\n",
      "Try using .loc[row_indexer,col_indexer] = value instead\n",
      "\n",
      "See the caveats in the documentation: https://pandas.pydata.org/pandas-docs/stable/user_guide/indexing.html#returning-a-view-versus-a-copy\n",
      "  test['Predictions'] = test_predictions\n"
     ]
    }
   ],
   "source": [
    "test['Predictions'] = test_predictions"
   ]
  },
  {
   "cell_type": "code",
   "execution_count": 52,
   "metadata": {},
   "outputs": [
    {
     "data": {
      "text/html": [
       "<div>\n",
       "<style scoped>\n",
       "    .dataframe tbody tr th:only-of-type {\n",
       "        vertical-align: middle;\n",
       "    }\n",
       "\n",
       "    .dataframe tbody tr th {\n",
       "        vertical-align: top;\n",
       "    }\n",
       "\n",
       "    .dataframe thead th {\n",
       "        text-align: right;\n",
       "    }\n",
       "</style>\n",
       "<table border=\"1\" class=\"dataframe\">\n",
       "  <thead>\n",
       "    <tr style=\"text-align: right;\">\n",
       "      <th></th>\n",
       "      <th>Sales</th>\n",
       "      <th>Predictions</th>\n",
       "    </tr>\n",
       "    <tr>\n",
       "      <th>DATE</th>\n",
       "      <th></th>\n",
       "      <th></th>\n",
       "    </tr>\n",
       "  </thead>\n",
       "  <tbody>\n",
       "    <tr>\n",
       "      <th>2018-02-01</th>\n",
       "      <td>10415</td>\n",
       "      <td>11418.805145</td>\n",
       "    </tr>\n",
       "    <tr>\n",
       "      <th>2018-03-01</th>\n",
       "      <td>12683</td>\n",
       "      <td>12183.479790</td>\n",
       "    </tr>\n",
       "    <tr>\n",
       "      <th>2018-04-01</th>\n",
       "      <td>11919</td>\n",
       "      <td>12217.275847</td>\n",
       "    </tr>\n",
       "    <tr>\n",
       "      <th>2018-05-01</th>\n",
       "      <td>14138</td>\n",
       "      <td>12639.475515</td>\n",
       "    </tr>\n",
       "    <tr>\n",
       "      <th>2018-06-01</th>\n",
       "      <td>14583</td>\n",
       "      <td>12809.884594</td>\n",
       "    </tr>\n",
       "    <tr>\n",
       "      <th>2018-07-01</th>\n",
       "      <td>12640</td>\n",
       "      <td>12310.653961</td>\n",
       "    </tr>\n",
       "    <tr>\n",
       "      <th>2018-08-01</th>\n",
       "      <td>14257</td>\n",
       "      <td>12590.056122</td>\n",
       "    </tr>\n",
       "    <tr>\n",
       "      <th>2018-09-01</th>\n",
       "      <td>12396</td>\n",
       "      <td>12508.556067</td>\n",
       "    </tr>\n",
       "    <tr>\n",
       "      <th>2018-10-01</th>\n",
       "      <td>13914</td>\n",
       "      <td>12777.591948</td>\n",
       "    </tr>\n",
       "    <tr>\n",
       "      <th>2018-11-01</th>\n",
       "      <td>14174</td>\n",
       "      <td>12991.972997</td>\n",
       "    </tr>\n",
       "    <tr>\n",
       "      <th>2018-12-01</th>\n",
       "      <td>15504</td>\n",
       "      <td>12946.569440</td>\n",
       "    </tr>\n",
       "    <tr>\n",
       "      <th>2019-01-01</th>\n",
       "      <td>10718</td>\n",
       "      <td>11230.943673</td>\n",
       "    </tr>\n",
       "  </tbody>\n",
       "</table>\n",
       "</div>"
      ],
      "text/plain": [
       "            Sales   Predictions\n",
       "DATE                           \n",
       "2018-02-01  10415  11418.805145\n",
       "2018-03-01  12683  12183.479790\n",
       "2018-04-01  11919  12217.275847\n",
       "2018-05-01  14138  12639.475515\n",
       "2018-06-01  14583  12809.884594\n",
       "2018-07-01  12640  12310.653961\n",
       "2018-08-01  14257  12590.056122\n",
       "2018-09-01  12396  12508.556067\n",
       "2018-10-01  13914  12777.591948\n",
       "2018-11-01  14174  12991.972997\n",
       "2018-12-01  15504  12946.569440\n",
       "2019-01-01  10718  11230.943673"
      ]
     },
     "execution_count": 52,
     "metadata": {},
     "output_type": "execute_result"
    }
   ],
   "source": [
    "test"
   ]
  },
  {
   "cell_type": "code",
   "execution_count": 53,
   "metadata": {},
   "outputs": [
    {
     "data": {
      "text/plain": [
       "<AxesSubplot:xlabel='DATE'>"
      ]
     },
     "execution_count": 53,
     "metadata": {},
     "output_type": "execute_result"
    },
    {
     "data": {
      "image/png": "[encoded data removed]",
      "text/plain": [
       "<Figure size 1152x576 with 1 Axes>"
      ]
     },
     "metadata": {
      "needs_background": "light"
     },
     "output_type": "display_data"
    }
   ],
   "source": [
    "test.plot(figsize=(16, 8))"
   ]
  },
  {
   "cell_type": "code",
   "execution_count": 54,
   "metadata": {},
   "outputs": [
    {
     "data": {
      "text/plain": [
       "1262.5252643040076"
      ]
     },
     "execution_count": 54,
     "metadata": {},
     "output_type": "execute_result"
    }
   ],
   "source": [
    "np.sqrt(mean_squared_error(test['Sales'], test['Predictions']))"
   ]
  },
  {
   "cell_type": "code",
   "execution_count": null,
   "metadata": {},
   "outputs": [],
   "source": []
  }
 ],
 "metadata": {
  "kernelspec": {
   "display_name": "Python 3",
   "language": "python",
   "name": "python3"
  },
  "language_info": {
   "codemirror_mode": {
    "name": "ipython",
    "version": 3
   },
   "file_extension": ".py",
   "mimetype": "text/x-python",
   "name": "python",
   "nbconvert_exporter": "python",
   "pygments_lexer": "ipython3",
   "version": "3.9.1"
  }
 },
 "nbformat": 4,
 "nbformat_minor": 4
}
